{
  "cells": [
    {
      "cell_type": "markdown",
      "metadata": {
        "id": "MWm9VRgJ_3G4"
      },
      "source": [
        "### Problem Statement:\n",
        "\n",
        "Leveraging the customer data collected by Aerofit consisting of the Gender, Age, Income, Weekly Usage, Fitness, Marital Status and Miles run on treadmill to identify characteristics which make the customer buy a particular treadmill out of KP281, KP481 and KP781 in the increasing order of expenditures. Further providing recommendations of treadmill for future orders/customers based on their profile."
      ]
    },
    {
      "cell_type": "code",
      "execution_count": null,
      "metadata": {
        "colab": {
          "base_uri": "https://localhost:8080/",
          "height": 206
        },
        "id": "2-QQk9tiYMbz",
        "outputId": "6485b30a-c410-40cf-e20a-b4f844e72f47"
      },
      "outputs": [
        {
          "data": {
            "text/html": [
              "<div>\n",
              "<style scoped>\n",
              "    .dataframe tbody tr th:only-of-type {\n",
              "        vertical-align: middle;\n",
              "    }\n",
              "\n",
              "    .dataframe tbody tr th {\n",
              "        vertical-align: top;\n",
              "    }\n",
              "\n",
              "    .dataframe thead th {\n",
              "        text-align: right;\n",
              "    }\n",
              "</style>\n",
              "<table border=\"1\" class=\"dataframe\">\n",
              "  <thead>\n",
              "    <tr style=\"text-align: right;\">\n",
              "      <th></th>\n",
              "      <th>Product</th>\n",
              "      <th>Age</th>\n",
              "      <th>Gender</th>\n",
              "      <th>Education</th>\n",
              "      <th>MaritalStatus</th>\n",
              "      <th>Usage</th>\n",
              "      <th>Fitness</th>\n",
              "      <th>Income</th>\n",
              "      <th>Miles</th>\n",
              "    </tr>\n",
              "  </thead>\n",
              "  <tbody>\n",
              "    <tr>\n",
              "      <th>0</th>\n",
              "      <td>KP281</td>\n",
              "      <td>18</td>\n",
              "      <td>Male</td>\n",
              "      <td>14</td>\n",
              "      <td>Single</td>\n",
              "      <td>3</td>\n",
              "      <td>4</td>\n",
              "      <td>29562</td>\n",
              "      <td>112</td>\n",
              "    </tr>\n",
              "    <tr>\n",
              "      <th>1</th>\n",
              "      <td>KP281</td>\n",
              "      <td>19</td>\n",
              "      <td>Male</td>\n",
              "      <td>15</td>\n",
              "      <td>Single</td>\n",
              "      <td>2</td>\n",
              "      <td>3</td>\n",
              "      <td>31836</td>\n",
              "      <td>75</td>\n",
              "    </tr>\n",
              "    <tr>\n",
              "      <th>2</th>\n",
              "      <td>KP281</td>\n",
              "      <td>19</td>\n",
              "      <td>Female</td>\n",
              "      <td>14</td>\n",
              "      <td>Partnered</td>\n",
              "      <td>4</td>\n",
              "      <td>3</td>\n",
              "      <td>30699</td>\n",
              "      <td>66</td>\n",
              "    </tr>\n",
              "    <tr>\n",
              "      <th>3</th>\n",
              "      <td>KP281</td>\n",
              "      <td>19</td>\n",
              "      <td>Male</td>\n",
              "      <td>12</td>\n",
              "      <td>Single</td>\n",
              "      <td>3</td>\n",
              "      <td>3</td>\n",
              "      <td>32973</td>\n",
              "      <td>85</td>\n",
              "    </tr>\n",
              "    <tr>\n",
              "      <th>4</th>\n",
              "      <td>KP281</td>\n",
              "      <td>20</td>\n",
              "      <td>Male</td>\n",
              "      <td>13</td>\n",
              "      <td>Partnered</td>\n",
              "      <td>4</td>\n",
              "      <td>2</td>\n",
              "      <td>35247</td>\n",
              "      <td>47</td>\n",
              "    </tr>\n",
              "  </tbody>\n",
              "</table>\n",
              "</div>"
            ],
            "text/plain": [
              "  Product  Age  Gender  Education MaritalStatus  Usage  Fitness  Income  Miles\n",
              "0   KP281   18    Male         14        Single      3        4   29562    112\n",
              "1   KP281   19    Male         15        Single      2        3   31836     75\n",
              "2   KP281   19  Female         14     Partnered      4        3   30699     66\n",
              "3   KP281   19    Male         12        Single      3        3   32973     85\n",
              "4   KP281   20    Male         13     Partnered      4        2   35247     47"
            ]
          },
          "execution_count": 2,
          "metadata": {},
          "output_type": "execute_result"
        }
      ],
      "source": [
        "# Importing libraries -\n",
        "import pandas as pd\n",
        "import numpy as np\n",
        "import matplotlib.pyplot as plt\n",
        "import seaborn as sns\n",
        "\n",
        "# Loading the dataset -\n",
        "df = pd.read_csv(\"aerofit.csv\")\n",
        "# df.drop(columns=[\"Unnamed: 0\"],inplace=True)\n",
        "df.head()"
      ]
    },
    {
      "cell_type": "code",
      "execution_count": null,
      "metadata": {
        "id": "lR-oa8I-Ff_m"
      },
      "outputs": [],
      "source": []
    },
    {
      "cell_type": "code",
      "execution_count": null,
      "metadata": {
        "colab": {
          "base_uri": "https://localhost:8080/"
        },
        "id": "-2Fwd4H2YMeE",
        "outputId": "9a5a3d6e-6814-40b9-e6f2-0e7c369b96f4"
      },
      "outputs": [
        {
          "data": {
            "text/plain": [
              "(180, 9)"
            ]
          },
          "execution_count": 3,
          "metadata": {},
          "output_type": "execute_result"
        }
      ],
      "source": [
        "# Shape of the dataset -\n",
        "df.shape"
      ]
    },
    {
      "cell_type": "code",
      "execution_count": null,
      "metadata": {
        "id": "SdU2LOzPFf_m",
        "outputId": "d83e252c-ca61-4318-e90d-222567e4f8da"
      },
      "outputs": [
        {
          "name": "stdout",
          "output_type": "stream",
          "text": [
            "<class 'pandas.core.frame.DataFrame'>\n",
            "RangeIndex: 180 entries, 0 to 179\n",
            "Data columns (total 9 columns):\n",
            " #   Column         Non-Null Count  Dtype \n",
            "---  ------         --------------  ----- \n",
            " 0   Product        180 non-null    object\n",
            " 1   Age            180 non-null    int64 \n",
            " 2   Gender         180 non-null    object\n",
            " 3   Education      180 non-null    int64 \n",
            " 4   MaritalStatus  180 non-null    object\n",
            " 5   Usage          180 non-null    int64 \n",
            " 6   Fitness        180 non-null    int64 \n",
            " 7   Income         180 non-null    int64 \n",
            " 8   Miles          180 non-null    int64 \n",
            "dtypes: int64(6), object(3)\n",
            "memory usage: 12.8+ KB\n"
          ]
        }
      ],
      "source": [
        "df.info()"
      ]
    },
    {
      "cell_type": "code",
      "execution_count": null,
      "metadata": {
        "colab": {
          "base_uri": "https://localhost:8080/"
        },
        "id": "RmFvZtDyYMgY",
        "outputId": "b583a6ed-3a3f-466a-9554-1050a0737436"
      },
      "outputs": [
        {
          "data": {
            "text/plain": [
              "Product          object\n",
              "Age               int64\n",
              "Gender           object\n",
              "Education         int64\n",
              "MaritalStatus    object\n",
              "Usage             int64\n",
              "Fitness           int64\n",
              "Income            int64\n",
              "Miles             int64\n",
              "dtype: object"
            ]
          },
          "execution_count": 5,
          "metadata": {},
          "output_type": "execute_result"
        }
      ],
      "source": [
        "# Checking data types -\n",
        "df.dtypes"
      ]
    },
    {
      "cell_type": "code",
      "execution_count": null,
      "metadata": {
        "colab": {
          "base_uri": "https://localhost:8080/"
        },
        "id": "5-G-ZS0bYMiq",
        "outputId": "1e4d339c-d105-420c-bfd8-03a7539c8510"
      },
      "outputs": [
        {
          "name": "stdout",
          "output_type": "stream",
          "text": [
            "Product : 3\n",
            "Age : 32\n",
            "Gender : 2\n",
            "Education : 8\n",
            "MaritalStatus : 2\n",
            "Usage : 6\n",
            "Fitness : 5\n",
            "Income : 62\n",
            "Miles : 37\n"
          ]
        }
      ],
      "source": [
        "# Number of unique values in each column\n",
        "for i in df.columns:\n",
        "  print(i, ':', df[i].nunique())"
      ]
    },
    {
      "cell_type": "markdown",
      "metadata": {
        "id": "_rVvtu90ZNS6"
      },
      "source": [
        "From the above observation, we can conclude that only Income, Miles and Age can be considered as Continuous, the rest of the columns though integers/floats should be considered as categories."
      ]
    },
    {
      "cell_type": "code",
      "execution_count": null,
      "metadata": {
        "colab": {
          "base_uri": "https://localhost:8080/"
        },
        "id": "prlKnd5GY8MK",
        "outputId": "c682b57c-316d-4177-c9c1-424daac819db"
      },
      "outputs": [
        {
          "data": {
            "text/plain": [
              "Product          0\n",
              "Age              0\n",
              "Gender           0\n",
              "Education        0\n",
              "MaritalStatus    0\n",
              "Usage            0\n",
              "Fitness          0\n",
              "Income           0\n",
              "Miles            0\n",
              "dtype: int64"
            ]
          },
          "execution_count": 7,
          "metadata": {},
          "output_type": "execute_result"
        }
      ],
      "source": [
        "# Checking for null values -\n",
        "df.isnull().sum()"
      ]
    },
    {
      "cell_type": "markdown",
      "metadata": {
        "id": "I3VQg6yQZrf9"
      },
      "source": [
        "There aren't any missing values in the dataset."
      ]
    },
    {
      "cell_type": "markdown",
      "metadata": {
        "id": "5LGd4S5yanrA"
      },
      "source": [
        "#### Checking value counts for categorical columns -"
      ]
    },
    {
      "cell_type": "code",
      "execution_count": null,
      "metadata": {
        "colab": {
          "base_uri": "https://localhost:8080/"
        },
        "id": "vK52WgL_Y8OL",
        "outputId": "4036d58b-466c-47e3-f9d9-128601e68843"
      },
      "outputs": [
        {
          "data": {
            "text/plain": [
              "Product\n",
              "KP281    80\n",
              "KP481    60\n",
              "KP781    40\n",
              "Name: count, dtype: int64"
            ]
          },
          "execution_count": 8,
          "metadata": {},
          "output_type": "execute_result"
        }
      ],
      "source": [
        "df['Product'].value_counts()"
      ]
    },
    {
      "cell_type": "code",
      "execution_count": null,
      "metadata": {
        "colab": {
          "base_uri": "https://localhost:8080/"
        },
        "id": "0Yo1yQ_EY8Rn",
        "outputId": "c11c071f-8d44-4e0c-9f02-28740021c3fb"
      },
      "outputs": [
        {
          "data": {
            "text/plain": [
              "Gender\n",
              "Male      104\n",
              "Female     76\n",
              "Name: count, dtype: int64"
            ]
          },
          "execution_count": 9,
          "metadata": {},
          "output_type": "execute_result"
        }
      ],
      "source": [
        "df['Gender'].value_counts()"
      ]
    },
    {
      "cell_type": "code",
      "execution_count": null,
      "metadata": {
        "colab": {
          "base_uri": "https://localhost:8080/"
        },
        "id": "QdgVD3u6Y8Z8",
        "outputId": "3bda3404-8193-4018-bffb-16b710baf9b8"
      },
      "outputs": [
        {
          "data": {
            "text/plain": [
              "Education\n",
              "16    85\n",
              "14    55\n",
              "18    23\n",
              "15     5\n",
              "13     5\n",
              "12     3\n",
              "21     3\n",
              "20     1\n",
              "Name: count, dtype: int64"
            ]
          },
          "execution_count": 10,
          "metadata": {},
          "output_type": "execute_result"
        }
      ],
      "source": [
        "df['Education'].value_counts()"
      ]
    },
    {
      "cell_type": "code",
      "execution_count": null,
      "metadata": {
        "colab": {
          "base_uri": "https://localhost:8080/"
        },
        "id": "tI_Nh_X7YMk7",
        "outputId": "a883c9e0-2702-45da-a6fd-7dbd035dedfe"
      },
      "outputs": [
        {
          "data": {
            "text/plain": [
              "Gender\n",
              "Male      104\n",
              "Female     76\n",
              "Name: count, dtype: int64"
            ]
          },
          "execution_count": 11,
          "metadata": {},
          "output_type": "execute_result"
        }
      ],
      "source": [
        "df['Gender'].value_counts()"
      ]
    },
    {
      "cell_type": "code",
      "execution_count": null,
      "metadata": {
        "colab": {
          "base_uri": "https://localhost:8080/"
        },
        "id": "ohuPi6hyYMnP",
        "outputId": "d4aaa726-8626-458d-d1ac-3839e8381515"
      },
      "outputs": [
        {
          "data": {
            "text/plain": [
              "MaritalStatus\n",
              "Partnered    107\n",
              "Single        73\n",
              "Name: count, dtype: int64"
            ]
          },
          "execution_count": 12,
          "metadata": {},
          "output_type": "execute_result"
        }
      ],
      "source": [
        "df['MaritalStatus'].value_counts()"
      ]
    },
    {
      "cell_type": "code",
      "execution_count": null,
      "metadata": {
        "colab": {
          "base_uri": "https://localhost:8080/"
        },
        "id": "UMf67ZXfYMqp",
        "outputId": "609972c9-3b60-4b47-f0af-e0bf47833c6d"
      },
      "outputs": [
        {
          "data": {
            "text/plain": [
              "Usage\n",
              "3    69\n",
              "4    52\n",
              "2    33\n",
              "5    17\n",
              "6     7\n",
              "7     2\n",
              "Name: count, dtype: int64"
            ]
          },
          "execution_count": 13,
          "metadata": {},
          "output_type": "execute_result"
        }
      ],
      "source": [
        "df['Usage'].value_counts()"
      ]
    },
    {
      "cell_type": "code",
      "execution_count": null,
      "metadata": {
        "colab": {
          "base_uri": "https://localhost:8080/"
        },
        "id": "LZK9QGyfaWu0",
        "outputId": "035e8a43-95be-4c85-ef94-4fe21365115e"
      },
      "outputs": [
        {
          "data": {
            "text/plain": [
              "Fitness\n",
              "3    97\n",
              "5    31\n",
              "2    26\n",
              "4    24\n",
              "1     2\n",
              "Name: count, dtype: int64"
            ]
          },
          "execution_count": 14,
          "metadata": {},
          "output_type": "execute_result"
        }
      ],
      "source": [
        "df['Fitness'].value_counts()"
      ]
    },
    {
      "cell_type": "code",
      "execution_count": null,
      "metadata": {
        "colab": {
          "base_uri": "https://localhost:8080/",
          "height": 331
        },
        "id": "B-QE-dliaWw3",
        "outputId": "1d79077c-a017-4ba4-fddc-85773bc7570f"
      },
      "outputs": [
        {
          "data": {
            "text/html": [
              "<div>\n",
              "<style scoped>\n",
              "    .dataframe tbody tr th:only-of-type {\n",
              "        vertical-align: middle;\n",
              "    }\n",
              "\n",
              "    .dataframe tbody tr th {\n",
              "        vertical-align: top;\n",
              "    }\n",
              "\n",
              "    .dataframe thead th {\n",
              "        text-align: right;\n",
              "    }\n",
              "</style>\n",
              "<table border=\"1\" class=\"dataframe\">\n",
              "  <thead>\n",
              "    <tr style=\"text-align: right;\">\n",
              "      <th></th>\n",
              "      <th>Product</th>\n",
              "      <th>Age</th>\n",
              "      <th>Gender</th>\n",
              "      <th>Education</th>\n",
              "      <th>MaritalStatus</th>\n",
              "      <th>Usage</th>\n",
              "      <th>Fitness</th>\n",
              "      <th>Income</th>\n",
              "      <th>Miles</th>\n",
              "    </tr>\n",
              "  </thead>\n",
              "  <tbody>\n",
              "    <tr>\n",
              "      <th>Product</th>\n",
              "      <td>1.000000</td>\n",
              "      <td>0.032225</td>\n",
              "      <td>0.230653</td>\n",
              "      <td>0.495018</td>\n",
              "      <td>-0.017602</td>\n",
              "      <td>0.537447</td>\n",
              "      <td>0.594883</td>\n",
              "      <td>0.624168</td>\n",
              "      <td>0.571596</td>\n",
              "    </tr>\n",
              "    <tr>\n",
              "      <th>Age</th>\n",
              "      <td>0.032225</td>\n",
              "      <td>1.000000</td>\n",
              "      <td>0.027544</td>\n",
              "      <td>0.280496</td>\n",
              "      <td>0.192152</td>\n",
              "      <td>0.015064</td>\n",
              "      <td>0.061105</td>\n",
              "      <td>0.513414</td>\n",
              "      <td>0.036618</td>\n",
              "    </tr>\n",
              "    <tr>\n",
              "      <th>Gender</th>\n",
              "      <td>0.230653</td>\n",
              "      <td>0.027544</td>\n",
              "      <td>1.000000</td>\n",
              "      <td>0.094089</td>\n",
              "      <td>-0.018836</td>\n",
              "      <td>0.214424</td>\n",
              "      <td>0.254609</td>\n",
              "      <td>0.202053</td>\n",
              "      <td>0.217869</td>\n",
              "    </tr>\n",
              "    <tr>\n",
              "      <th>Education</th>\n",
              "      <td>0.495018</td>\n",
              "      <td>0.280496</td>\n",
              "      <td>0.094089</td>\n",
              "      <td>1.000000</td>\n",
              "      <td>0.068569</td>\n",
              "      <td>0.395155</td>\n",
              "      <td>0.410581</td>\n",
              "      <td>0.625827</td>\n",
              "      <td>0.307284</td>\n",
              "    </tr>\n",
              "    <tr>\n",
              "      <th>MaritalStatus</th>\n",
              "      <td>-0.017602</td>\n",
              "      <td>0.192152</td>\n",
              "      <td>-0.018836</td>\n",
              "      <td>0.068569</td>\n",
              "      <td>1.000000</td>\n",
              "      <td>-0.007786</td>\n",
              "      <td>-0.050751</td>\n",
              "      <td>0.150293</td>\n",
              "      <td>0.025639</td>\n",
              "    </tr>\n",
              "    <tr>\n",
              "      <th>Usage</th>\n",
              "      <td>0.537447</td>\n",
              "      <td>0.015064</td>\n",
              "      <td>0.214424</td>\n",
              "      <td>0.395155</td>\n",
              "      <td>-0.007786</td>\n",
              "      <td>1.000000</td>\n",
              "      <td>0.668606</td>\n",
              "      <td>0.519537</td>\n",
              "      <td>0.759130</td>\n",
              "    </tr>\n",
              "    <tr>\n",
              "      <th>Fitness</th>\n",
              "      <td>0.594883</td>\n",
              "      <td>0.061105</td>\n",
              "      <td>0.254609</td>\n",
              "      <td>0.410581</td>\n",
              "      <td>-0.050751</td>\n",
              "      <td>0.668606</td>\n",
              "      <td>1.000000</td>\n",
              "      <td>0.535005</td>\n",
              "      <td>0.785702</td>\n",
              "    </tr>\n",
              "    <tr>\n",
              "      <th>Income</th>\n",
              "      <td>0.624168</td>\n",
              "      <td>0.513414</td>\n",
              "      <td>0.202053</td>\n",
              "      <td>0.625827</td>\n",
              "      <td>0.150293</td>\n",
              "      <td>0.519537</td>\n",
              "      <td>0.535005</td>\n",
              "      <td>1.000000</td>\n",
              "      <td>0.543473</td>\n",
              "    </tr>\n",
              "    <tr>\n",
              "      <th>Miles</th>\n",
              "      <td>0.571596</td>\n",
              "      <td>0.036618</td>\n",
              "      <td>0.217869</td>\n",
              "      <td>0.307284</td>\n",
              "      <td>0.025639</td>\n",
              "      <td>0.759130</td>\n",
              "      <td>0.785702</td>\n",
              "      <td>0.543473</td>\n",
              "      <td>1.000000</td>\n",
              "    </tr>\n",
              "  </tbody>\n",
              "</table>\n",
              "</div>"
            ],
            "text/plain": [
              "                Product       Age    Gender  Education  MaritalStatus  \\\n",
              "Product        1.000000  0.032225  0.230653   0.495018      -0.017602   \n",
              "Age            0.032225  1.000000  0.027544   0.280496       0.192152   \n",
              "Gender         0.230653  0.027544  1.000000   0.094089      -0.018836   \n",
              "Education      0.495018  0.280496  0.094089   1.000000       0.068569   \n",
              "MaritalStatus -0.017602  0.192152 -0.018836   0.068569       1.000000   \n",
              "Usage          0.537447  0.015064  0.214424   0.395155      -0.007786   \n",
              "Fitness        0.594883  0.061105  0.254609   0.410581      -0.050751   \n",
              "Income         0.624168  0.513414  0.202053   0.625827       0.150293   \n",
              "Miles          0.571596  0.036618  0.217869   0.307284       0.025639   \n",
              "\n",
              "                  Usage   Fitness    Income     Miles  \n",
              "Product        0.537447  0.594883  0.624168  0.571596  \n",
              "Age            0.015064  0.061105  0.513414  0.036618  \n",
              "Gender         0.214424  0.254609  0.202053  0.217869  \n",
              "Education      0.395155  0.410581  0.625827  0.307284  \n",
              "MaritalStatus -0.007786 -0.050751  0.150293  0.025639  \n",
              "Usage          1.000000  0.668606  0.519537  0.759130  \n",
              "Fitness        0.668606  1.000000  0.535005  0.785702  \n",
              "Income         0.519537  0.535005  1.000000  0.543473  \n",
              "Miles          0.759130  0.785702  0.543473  1.000000  "
            ]
          },
          "execution_count": 15,
          "metadata": {},
          "output_type": "execute_result"
        }
      ],
      "source": [
        "# A broader look at correlation between the columns of dataframe\n",
        "\n",
        "# Creating a copy of the dataframe -\n",
        "df_copy=df.copy()\n",
        "\n",
        "df_copy['Gender'].replace(['Male', 'Female'], [1, 0], inplace=True)\n",
        "\n",
        "df_copy['MaritalStatus'].replace(['Single', 'Partnered'], [0, 1], inplace=True)\n",
        "\n",
        "df_copy['Product'].replace(['KP281', 'KP481', 'KP781'], [0, 1, 2], inplace=True)\n",
        "\n",
        "df_copy.corr()"
      ]
    },
    {
      "cell_type": "code",
      "execution_count": null,
      "metadata": {
        "colab": {
          "base_uri": "https://localhost:8080/",
          "height": 378
        },
        "id": "9L-TMiPqaWzN",
        "outputId": "12410b78-9478-4c97-8665-30093a670c64"
      },
      "outputs": [
        {
          "data": {
            "image/png": "[encoded data removed]",
            "text/plain": [
              "<Figure size 1500x600 with 2 Axes>"
            ]
          },
          "metadata": {},
          "output_type": "display_data"
        }
      ],
      "source": [
        "# Correlation Plot above as a Heatmap -\n",
        "\n",
        "plt.figure(figsize=(15,6))\n",
        "sns.heatmap(df_copy.corr(), cmap=\"YlGnBu\", annot=True)\n",
        "plt.show()"
      ]
    },
    {
      "cell_type": "markdown",
      "metadata": {
        "id": "bq3j9BN7ef0T"
      },
      "source": [
        "**Noteworthy Points**\n",
        "\n",
        "1) The product/treadmill purchased highly correlates with Education, Income, Usage, Fitness and Miles\n",
        "\n",
        "2) Age is highly correlated to Income (0.51) which definitely seems reasonable. It's also correlated with Education and Marital Status which stands completely alright.\n",
        "\n",
        "3) Gender certainly has some correlation to Usage, Fitness, Income and Miles.\n",
        "\n",
        "4) Education is correlated to Age and Miles. It's highly correlated to Income (as expected). It's sufficiently correlated to Usage and Fitness too.\n",
        "\n",
        "5) Marital Status has some correlation to Income and Age (as expected).\n",
        "\n",
        "6) Usage is extremely correlated to Fitness and Miles and has a higher correlation with Income as well.\n",
        "\n",
        "7) Fitness has a great correlation with Income.\n",
        "\n",
        "**More Observations and Possibilities:-**\n",
        "\n",
        "1) Product, Fitness, Usage and Miles depict a ridiculously higher correlation among themselves which looks as expected since more the usage implying more miles run and certainly more fitness.\n",
        "\n",
        "2) Also a story which seems reasonable is that Age and Education (predominately) are indicators of Income which affects the products bought. The more advanced the product is, the more its usage and hence more the miles run which in turns improves the fitness.\n",
        "\n",
        "Note:- Above point 2 is just something which may or mayn't be true as **Correlation doesn't imply Causation**."
      ]
    },
    {
      "cell_type": "markdown",
      "metadata": {
        "id": "3nmvi3Gfke-r"
      },
      "source": [
        "#### Observing the Outliers of Age, Income and Miles -"
      ]
    },
    {
      "cell_type": "code",
      "execution_count": null,
      "metadata": {
        "colab": {
          "base_uri": "https://localhost:8080/",
          "height": 279
        },
        "id": "UVvg_XKUaW1N",
        "outputId": "b6b12d90-2c63-4a69-c6ee-bd1666c28432"
      },
      "outputs": [
        {
          "data": {
            "image/png": "[encoded data removed]",
            "text/plain": [
              "<Figure size 640x480 with 1 Axes>"
            ]
          },
          "metadata": {},
          "output_type": "display_data"
        }
      ],
      "source": [
        "ax = sns.boxplot(x=df[\"Age\"])\n",
        "plt.show()"
      ]
    },
    {
      "cell_type": "code",
      "execution_count": null,
      "metadata": {
        "colab": {
          "base_uri": "https://localhost:8080/",
          "height": 279
        },
        "id": "q6z2M-J2d8Eu",
        "outputId": "daf2fa63-472b-42fd-b504-e89698163218"
      },
      "outputs": [
        {
          "data": {
            "image/png": "[encoded data removed]",
            "text/plain": [
              "<Figure size 640x480 with 1 Axes>"
            ]
          },
          "metadata": {},
          "output_type": "display_data"
        }
      ],
      "source": [
        "ax = sns.boxplot(x=df[\"Income\"])\n",
        "plt.show()"
      ]
    },
    {
      "cell_type": "code",
      "execution_count": null,
      "metadata": {
        "colab": {
          "base_uri": "https://localhost:8080/",
          "height": 279
        },
        "id": "H7PNVuefd8G8",
        "outputId": "327ea55b-d08a-4afa-89d6-6b8f633528f8"
      },
      "outputs": [
        {
          "data": {
            "image/png": "[encoded data removed]",
            "text/plain": [
              "<Figure size 640x480 with 1 Axes>"
            ]
          },
          "metadata": {},
          "output_type": "display_data"
        }
      ],
      "source": [
        "ax = sns.boxplot(x=df[\"Miles\"])\n",
        "plt.show()"
      ]
    },
    {
      "cell_type": "markdown",
      "metadata": {
        "id": "rkslm01BNwNe"
      },
      "source": [
        "Certainly there are outliers in our data. When we remove them, this leads to loss of information and moreover we have a very small dataset of 180 rows. So instead of removing, it's going to be clipped (i.e. - ranges between 5 percentile and 95 percentile).\n",
        "\n",
        "P.S. - The outlier treatment is demonstrated in the below piece of code for the copy of dataframe but it is not incorporated in the below analysis since these three numerical columns are binned and then analyzed."
      ]
    },
    {
      "cell_type": "code",
      "execution_count": null,
      "metadata": {
        "id": "LxvQVM_ZOE1A"
      },
      "outputs": [],
      "source": [
        "num_feat=['Age', 'Income', 'Miles']\n",
        "for col in num_feat:\n",
        "    percentiles = df[col].quantile([0.05,0.95]).values\n",
        "    df_copy[col] = np.clip(df_copy[col], percentiles[0], percentiles[1])"
      ]
    },
    {
      "cell_type": "code",
      "execution_count": null,
      "metadata": {
        "colab": {
          "base_uri": "https://localhost:8080/"
        },
        "id": "lZkxs981d8M4",
        "outputId": "a997b71e-e622-4ae6-c9df-b5c81c27b089"
      },
      "outputs": [
        {
          "data": {
            "text/plain": [
              "Index(['Product', 'Age', 'Gender', 'Education', 'MaritalStatus', 'Usage',\n",
              "       'Fitness', 'Income', 'Miles'],\n",
              "      dtype='object')"
            ]
          },
          "execution_count": 21,
          "metadata": {},
          "output_type": "execute_result"
        }
      ],
      "source": [
        "df.columns"
      ]
    },
    {
      "cell_type": "markdown",
      "metadata": {
        "id": "uWkMfYuc849t"
      },
      "source": [
        "#### Scatterplots for Analysis of Continuous Variables -"
      ]
    },
    {
      "cell_type": "code",
      "execution_count": null,
      "metadata": {
        "colab": {
          "base_uri": "https://localhost:8080/",
          "height": 283
        },
        "id": "1Ewcv-A8d8Vi",
        "outputId": "744c5cdb-857d-416b-f521-1d76fccf77c5"
      },
      "outputs": [
        {
          "data": {
            "text/plain": [
              "<matplotlib.collections.PathCollection at 0x26d1ab3d1f0>"
            ]
          },
          "execution_count": 22,
          "metadata": {},
          "output_type": "execute_result"
        },
        {
          "data": {
            "image/png": "[encoded data removed]",
            "text/plain": [
              "<Figure size 640x480 with 1 Axes>"
            ]
          },
          "metadata": {},
          "output_type": "display_data"
        }
      ],
      "source": [
        "# Observing the association between Age and Income -\n",
        "\n",
        "plt.scatter(df['Age'], df['Income'],\n",
        "            linewidths = 2,\n",
        "            marker =\"o\",\n",
        "            edgecolor =\"green\",\n",
        "            s = 50)"
      ]
    },
    {
      "cell_type": "markdown",
      "metadata": {
        "id": "KvW8VBGC5iyT"
      },
      "source": [
        "The variance of income in lower ages is smaller as compared to the variance in higher ages, probably something called as **Heteroscadasticity**."
      ]
    },
    {
      "cell_type": "code",
      "execution_count": null,
      "metadata": {
        "colab": {
          "base_uri": "https://localhost:8080/",
          "height": 283
        },
        "id": "Gi8Bdi-oaW4t",
        "outputId": "28a75b43-af66-4688-be91-b8c416078716"
      },
      "outputs": [
        {
          "data": {
            "text/plain": [
              "<matplotlib.collections.PathCollection at 0x26d19c94190>"
            ]
          },
          "execution_count": 23,
          "metadata": {},
          "output_type": "execute_result"
        },
        {
          "data": {
            "image/png": "[encoded data removed]",
            "text/plain": [
              "<Figure size 640x480 with 1 Axes>"
            ]
          },
          "metadata": {},
          "output_type": "display_data"
        }
      ],
      "source": [
        "# Observing the association between Age and Miles -\n",
        "\n",
        "plt.scatter(df['Age'], df['Miles'],\n",
        "            linewidths = 2,\n",
        "            marker =\"o\",\n",
        "            edgecolor =\"green\",\n",
        "            s = 50)"
      ]
    },
    {
      "cell_type": "markdown",
      "metadata": {
        "id": "PxBJhqy26lRs"
      },
      "source": [
        "No significant pattern or observation between Age and Miles run on a treadmill, also implied by heatmap with a correlation of 0.037."
      ]
    },
    {
      "cell_type": "code",
      "execution_count": null,
      "metadata": {
        "colab": {
          "base_uri": "https://localhost:8080/",
          "height": 283
        },
        "id": "qB_K4alF6JXz",
        "outputId": "807f9e10-dec7-4943-d51a-e8b557f781f1"
      },
      "outputs": [
        {
          "data": {
            "text/plain": [
              "<matplotlib.collections.PathCollection at 0x26d19e60340>"
            ]
          },
          "execution_count": 24,
          "metadata": {},
          "output_type": "execute_result"
        },
        {
          "data": {
            "image/png": "[encoded data removed]",
            "text/plain": [
              "<Figure size 640x480 with 1 Axes>"
            ]
          },
          "metadata": {},
          "output_type": "display_data"
        }
      ],
      "source": [
        "# Observing the association between Miles and Income -\n",
        "\n",
        "plt.scatter(df['Income'], df['Miles'],\n",
        "            linewidths = 2,\n",
        "            marker =\"o\",\n",
        "            edgecolor =\"green\",\n",
        "            s = 50)"
      ]
    },
    {
      "cell_type": "markdown",
      "metadata": {
        "id": "ysgexZvs66pP"
      },
      "source": [
        "The miles run on treadmill increase significantly with income, infact only people having incomes above 70000 have run over 220 miles. Moreover there's also a **Heteroscadastic** effect."
      ]
    },
    {
      "cell_type": "markdown",
      "metadata": {
        "id": "lLn_jA0WCnjZ"
      },
      "source": [
        "#### Analysis of Categorical Columns with the Product -"
      ]
    },
    {
      "cell_type": "markdown",
      "metadata": {
        "id": "9URX0c63EDzq"
      },
      "source": [
        "For this section, We'll be converting the Ages, Incomes and Miles to bins for better analysis."
      ]
    },
    {
      "cell_type": "code",
      "execution_count": null,
      "metadata": {
        "colab": {
          "base_uri": "https://localhost:8080/",
          "height": 334
        },
        "id": "pIddszbuEPj2",
        "outputId": "6a953a9f-8160-43f1-c3b5-9b2de521ad54"
      },
      "outputs": [
        {
          "name": "stderr",
          "output_type": "stream",
          "text": [
            "C:\\Users\\Shivam\\AppData\\Local\\Temp\\ipykernel_46568\\3839544540.py:3: UserWarning: \n",
            "\n",
            "`distplot` is a deprecated function and will be removed in seaborn v0.14.0.\n",
            "\n",
            "Please adapt your code to use either `displot` (a figure-level function with\n",
            "similar flexibility) or `histplot` (an axes-level function for histograms).\n",
            "\n",
            "For a guide to updating your code to use the new functions, please see\n",
            "https://gist.github.com/mwaskom/de44147ed2974457ad6372750bbe5751\n",
            "\n",
            "  sns.distplot(df['Age'], hist=True, kde=True,\n"
          ]
        },
        {
          "data": {
            "image/png": "[encoded data removed]",
            "text/plain": [
              "<Figure size 640x480 with 1 Axes>"
            ]
          },
          "metadata": {},
          "output_type": "display_data"
        }
      ],
      "source": [
        "# Observing the ages to create bins -\n",
        "\n",
        "sns.distplot(df['Age'], hist=True, kde=True,\n",
        "bins=int(36), color = 'darkblue',\n",
        "hist_kws={'edgecolor':'black'},\n",
        "kde_kws={'linewidth': 4})\n",
        "plt.show()"
      ]
    },
    {
      "cell_type": "code",
      "execution_count": null,
      "metadata": {
        "colab": {
          "base_uri": "https://localhost:8080/",
          "height": 206
        },
        "id": "PviUNEoQEwSF",
        "outputId": "30f9aeb3-8ac5-4e16-834b-b85940cd4bb1"
      },
      "outputs": [
        {
          "data": {
            "text/html": [
              "<div>\n",
              "<style scoped>\n",
              "    .dataframe tbody tr th:only-of-type {\n",
              "        vertical-align: middle;\n",
              "    }\n",
              "\n",
              "    .dataframe tbody tr th {\n",
              "        vertical-align: top;\n",
              "    }\n",
              "\n",
              "    .dataframe thead th {\n",
              "        text-align: right;\n",
              "    }\n",
              "</style>\n",
              "<table border=\"1\" class=\"dataframe\">\n",
              "  <thead>\n",
              "    <tr style=\"text-align: right;\">\n",
              "      <th></th>\n",
              "      <th>Product</th>\n",
              "      <th>Age</th>\n",
              "      <th>Gender</th>\n",
              "      <th>Education</th>\n",
              "      <th>MaritalStatus</th>\n",
              "      <th>Usage</th>\n",
              "      <th>Fitness</th>\n",
              "      <th>Income</th>\n",
              "      <th>Miles</th>\n",
              "      <th>Age_bins</th>\n",
              "    </tr>\n",
              "  </thead>\n",
              "  <tbody>\n",
              "    <tr>\n",
              "      <th>0</th>\n",
              "      <td>KP281</td>\n",
              "      <td>18</td>\n",
              "      <td>Male</td>\n",
              "      <td>14</td>\n",
              "      <td>Single</td>\n",
              "      <td>3</td>\n",
              "      <td>4</td>\n",
              "      <td>29562</td>\n",
              "      <td>112</td>\n",
              "      <td>&lt;20</td>\n",
              "    </tr>\n",
              "    <tr>\n",
              "      <th>1</th>\n",
              "      <td>KP281</td>\n",
              "      <td>19</td>\n",
              "      <td>Male</td>\n",
              "      <td>15</td>\n",
              "      <td>Single</td>\n",
              "      <td>2</td>\n",
              "      <td>3</td>\n",
              "      <td>31836</td>\n",
              "      <td>75</td>\n",
              "      <td>&lt;20</td>\n",
              "    </tr>\n",
              "    <tr>\n",
              "      <th>2</th>\n",
              "      <td>KP281</td>\n",
              "      <td>19</td>\n",
              "      <td>Female</td>\n",
              "      <td>14</td>\n",
              "      <td>Partnered</td>\n",
              "      <td>4</td>\n",
              "      <td>3</td>\n",
              "      <td>30699</td>\n",
              "      <td>66</td>\n",
              "      <td>&lt;20</td>\n",
              "    </tr>\n",
              "    <tr>\n",
              "      <th>3</th>\n",
              "      <td>KP281</td>\n",
              "      <td>19</td>\n",
              "      <td>Male</td>\n",
              "      <td>12</td>\n",
              "      <td>Single</td>\n",
              "      <td>3</td>\n",
              "      <td>3</td>\n",
              "      <td>32973</td>\n",
              "      <td>85</td>\n",
              "      <td>&lt;20</td>\n",
              "    </tr>\n",
              "    <tr>\n",
              "      <th>4</th>\n",
              "      <td>KP281</td>\n",
              "      <td>20</td>\n",
              "      <td>Male</td>\n",
              "      <td>13</td>\n",
              "      <td>Partnered</td>\n",
              "      <td>4</td>\n",
              "      <td>2</td>\n",
              "      <td>35247</td>\n",
              "      <td>47</td>\n",
              "      <td>&lt;20</td>\n",
              "    </tr>\n",
              "  </tbody>\n",
              "</table>\n",
              "</div>"
            ],
            "text/plain": [
              "  Product  Age  Gender  Education MaritalStatus  Usage  Fitness  Income  \\\n",
              "0   KP281   18    Male         14        Single      3        4   29562   \n",
              "1   KP281   19    Male         15        Single      2        3   31836   \n",
              "2   KP281   19  Female         14     Partnered      4        3   30699   \n",
              "3   KP281   19    Male         12        Single      3        3   32973   \n",
              "4   KP281   20    Male         13     Partnered      4        2   35247   \n",
              "\n",
              "   Miles Age_bins  \n",
              "0    112      <20  \n",
              "1     75      <20  \n",
              "2     66      <20  \n",
              "3     85      <20  \n",
              "4     47      <20  "
            ]
          },
          "execution_count": 26,
          "metadata": {},
          "output_type": "execute_result"
        }
      ],
      "source": [
        "# Creating bins on intervals of 5 as age gaps and below 20, above 40 -\n",
        "\n",
        "bins = [-1,20,25,30,35,40,55]\n",
        "labels = ['<20','20-25','25-30','30-35','35-40','40+']\n",
        "df['Age_bins'] = pd.cut(df['Age'], bins=bins, labels=labels)\n",
        "df.head()"
      ]
    },
    {
      "cell_type": "code",
      "execution_count": null,
      "metadata": {
        "colab": {
          "base_uri": "https://localhost:8080/",
          "height": 345
        },
        "id": "p7N7jKH1FkRH",
        "outputId": "18bec3e9-647f-4c20-b2b7-5ca457f2af07"
      },
      "outputs": [
        {
          "name": "stderr",
          "output_type": "stream",
          "text": [
            "C:\\Users\\Shivam\\AppData\\Local\\Temp\\ipykernel_46568\\4286501819.py:3: UserWarning: \n",
            "\n",
            "`distplot` is a deprecated function and will be removed in seaborn v0.14.0.\n",
            "\n",
            "Please adapt your code to use either `displot` (a figure-level function with\n",
            "similar flexibility) or `histplot` (an axes-level function for histograms).\n",
            "\n",
            "For a guide to updating your code to use the new functions, please see\n",
            "https://gist.github.com/mwaskom/de44147ed2974457ad6372750bbe5751\n",
            "\n",
            "  sns.distplot(df['Income'], hist=True, kde=True,\n"
          ]
        },
        {
          "data": {
            "image/png": "[encoded data removed]",
            "text/plain": [
              "<Figure size 640x480 with 1 Axes>"
            ]
          },
          "metadata": {},
          "output_type": "display_data"
        }
      ],
      "source": [
        "# Observing the incomes to create bins -\n",
        "\n",
        "sns.distplot(df['Income'], hist=True, kde=True,\n",
        "bins=int(36), color = 'darkblue',\n",
        "hist_kws={'edgecolor':'black'},\n",
        "kde_kws={'linewidth': 4})\n",
        "plt.show()"
      ]
    },
    {
      "cell_type": "code",
      "execution_count": null,
      "metadata": {
        "colab": {
          "base_uri": "https://localhost:8080/"
        },
        "id": "cmnD6IpZFvmZ",
        "outputId": "34a898e3-d098-42a7-b442-d7f1e8bf1027"
      },
      "outputs": [
        {
          "data": {
            "text/plain": [
              "count       180.000000\n",
              "mean      53719.577778\n",
              "std       16506.684226\n",
              "min       29562.000000\n",
              "25%       44058.750000\n",
              "50%       50596.500000\n",
              "75%       58668.000000\n",
              "max      104581.000000\n",
              "Name: Income, dtype: float64"
            ]
          },
          "execution_count": 28,
          "metadata": {},
          "output_type": "execute_result"
        }
      ],
      "source": [
        "df['Income'].describe()"
      ]
    },
    {
      "cell_type": "code",
      "execution_count": null,
      "metadata": {
        "colab": {
          "base_uri": "https://localhost:8080/",
          "height": 206
        },
        "id": "q41ZtOIpFsnR",
        "outputId": "ef9eebd0-6039-4abe-dff7-ff305f91f0ff"
      },
      "outputs": [
        {
          "data": {
            "text/html": [
              "<div>\n",
              "<style scoped>\n",
              "    .dataframe tbody tr th:only-of-type {\n",
              "        vertical-align: middle;\n",
              "    }\n",
              "\n",
              "    .dataframe tbody tr th {\n",
              "        vertical-align: top;\n",
              "    }\n",
              "\n",
              "    .dataframe thead th {\n",
              "        text-align: right;\n",
              "    }\n",
              "</style>\n",
              "<table border=\"1\" class=\"dataframe\">\n",
              "  <thead>\n",
              "    <tr style=\"text-align: right;\">\n",
              "      <th></th>\n",
              "      <th>Product</th>\n",
              "      <th>Age</th>\n",
              "      <th>Gender</th>\n",
              "      <th>Education</th>\n",
              "      <th>MaritalStatus</th>\n",
              "      <th>Usage</th>\n",
              "      <th>Fitness</th>\n",
              "      <th>Income</th>\n",
              "      <th>Miles</th>\n",
              "      <th>Age_bins</th>\n",
              "      <th>Income_bins</th>\n",
              "    </tr>\n",
              "  </thead>\n",
              "  <tbody>\n",
              "    <tr>\n",
              "      <th>0</th>\n",
              "      <td>KP281</td>\n",
              "      <td>18</td>\n",
              "      <td>Male</td>\n",
              "      <td>14</td>\n",
              "      <td>Single</td>\n",
              "      <td>3</td>\n",
              "      <td>4</td>\n",
              "      <td>29562</td>\n",
              "      <td>112</td>\n",
              "      <td>&lt;20</td>\n",
              "      <td>&lt;35000</td>\n",
              "    </tr>\n",
              "    <tr>\n",
              "      <th>1</th>\n",
              "      <td>KP281</td>\n",
              "      <td>19</td>\n",
              "      <td>Male</td>\n",
              "      <td>15</td>\n",
              "      <td>Single</td>\n",
              "      <td>2</td>\n",
              "      <td>3</td>\n",
              "      <td>31836</td>\n",
              "      <td>75</td>\n",
              "      <td>&lt;20</td>\n",
              "      <td>&lt;35000</td>\n",
              "    </tr>\n",
              "    <tr>\n",
              "      <th>2</th>\n",
              "      <td>KP281</td>\n",
              "      <td>19</td>\n",
              "      <td>Female</td>\n",
              "      <td>14</td>\n",
              "      <td>Partnered</td>\n",
              "      <td>4</td>\n",
              "      <td>3</td>\n",
              "      <td>30699</td>\n",
              "      <td>66</td>\n",
              "      <td>&lt;20</td>\n",
              "      <td>&lt;35000</td>\n",
              "    </tr>\n",
              "    <tr>\n",
              "      <th>3</th>\n",
              "      <td>KP281</td>\n",
              "      <td>19</td>\n",
              "      <td>Male</td>\n",
              "      <td>12</td>\n",
              "      <td>Single</td>\n",
              "      <td>3</td>\n",
              "      <td>3</td>\n",
              "      <td>32973</td>\n",
              "      <td>85</td>\n",
              "      <td>&lt;20</td>\n",
              "      <td>&lt;35000</td>\n",
              "    </tr>\n",
              "    <tr>\n",
              "      <th>4</th>\n",
              "      <td>KP281</td>\n",
              "      <td>20</td>\n",
              "      <td>Male</td>\n",
              "      <td>13</td>\n",
              "      <td>Partnered</td>\n",
              "      <td>4</td>\n",
              "      <td>2</td>\n",
              "      <td>35247</td>\n",
              "      <td>47</td>\n",
              "      <td>&lt;20</td>\n",
              "      <td>35000-45000</td>\n",
              "    </tr>\n",
              "  </tbody>\n",
              "</table>\n",
              "</div>"
            ],
            "text/plain": [
              "  Product  Age  Gender  Education MaritalStatus  Usage  Fitness  Income  \\\n",
              "0   KP281   18    Male         14        Single      3        4   29562   \n",
              "1   KP281   19    Male         15        Single      2        3   31836   \n",
              "2   KP281   19  Female         14     Partnered      4        3   30699   \n",
              "3   KP281   19    Male         12        Single      3        3   32973   \n",
              "4   KP281   20    Male         13     Partnered      4        2   35247   \n",
              "\n",
              "   Miles Age_bins  Income_bins  \n",
              "0    112      <20       <35000  \n",
              "1     75      <20       <35000  \n",
              "2     66      <20       <35000  \n",
              "3     85      <20       <35000  \n",
              "4     47      <20  35000-45000  "
            ]
          },
          "execution_count": 29,
          "metadata": {},
          "output_type": "execute_result"
        }
      ],
      "source": [
        "# Creating bins for income -\n",
        "\n",
        "bins = [-1,35000,45000,50000,60000,70000,90000,120000]\n",
        "labels = ['<35000','35000-45000','45000-50000','50000-60000','60000-70000','70000-90000','90000+']\n",
        "df['Income_bins'] = pd.cut(df['Income'], bins=bins, labels=labels)\n",
        "df.head()"
      ]
    },
    {
      "cell_type": "code",
      "execution_count": null,
      "metadata": {
        "colab": {
          "base_uri": "https://localhost:8080/",
          "height": 334
        },
        "id": "MmyAkPOIFspm",
        "outputId": "c2d038c1-5e2a-4f55-d431-ce84a2301532"
      },
      "outputs": [
        {
          "name": "stderr",
          "output_type": "stream",
          "text": [
            "C:\\Users\\Shivam\\AppData\\Local\\Temp\\ipykernel_46568\\940028814.py:3: UserWarning: \n",
            "\n",
            "`distplot` is a deprecated function and will be removed in seaborn v0.14.0.\n",
            "\n",
            "Please adapt your code to use either `displot` (a figure-level function with\n",
            "similar flexibility) or `histplot` (an axes-level function for histograms).\n",
            "\n",
            "For a guide to updating your code to use the new functions, please see\n",
            "https://gist.github.com/mwaskom/de44147ed2974457ad6372750bbe5751\n",
            "\n",
            "  sns.distplot(df['Miles'], hist=True, kde=True,\n"
          ]
        },
        {
          "data": {
            "image/png": "[encoded data removed]",
            "text/plain": [
              "<Figure size 640x480 with 1 Axes>"
            ]
          },
          "metadata": {},
          "output_type": "display_data"
        }
      ],
      "source": [
        "# Observing the miles to create bins -\n",
        "\n",
        "sns.distplot(df['Miles'], hist=True, kde=True,\n",
        "bins=int(36), color = 'darkblue',\n",
        "hist_kws={'edgecolor':'black'},\n",
        "kde_kws={'linewidth': 4})\n",
        "plt.show()"
      ]
    },
    {
      "cell_type": "code",
      "execution_count": null,
      "metadata": {
        "colab": {
          "base_uri": "https://localhost:8080/"
        },
        "id": "daYAdUz2HN_C",
        "outputId": "a205887f-29ec-4516-ae3a-c83b2c5f4529"
      },
      "outputs": [
        {
          "data": {
            "text/plain": [
              "count    180.000000\n",
              "mean     103.194444\n",
              "std       51.863605\n",
              "min       21.000000\n",
              "25%       66.000000\n",
              "50%       94.000000\n",
              "75%      114.750000\n",
              "max      360.000000\n",
              "Name: Miles, dtype: float64"
            ]
          },
          "execution_count": 31,
          "metadata": {},
          "output_type": "execute_result"
        }
      ],
      "source": [
        "df['Miles'].describe()"
      ]
    },
    {
      "cell_type": "code",
      "execution_count": null,
      "metadata": {
        "colab": {
          "base_uri": "https://localhost:8080/",
          "height": 206
        },
        "id": "sF-CvP0uFstT",
        "outputId": "cb83e39f-6ad3-4a7c-9caa-06c68d12f545"
      },
      "outputs": [
        {
          "data": {
            "text/html": [
              "<div>\n",
              "<style scoped>\n",
              "    .dataframe tbody tr th:only-of-type {\n",
              "        vertical-align: middle;\n",
              "    }\n",
              "\n",
              "    .dataframe tbody tr th {\n",
              "        vertical-align: top;\n",
              "    }\n",
              "\n",
              "    .dataframe thead th {\n",
              "        text-align: right;\n",
              "    }\n",
              "</style>\n",
              "<table border=\"1\" class=\"dataframe\">\n",
              "  <thead>\n",
              "    <tr style=\"text-align: right;\">\n",
              "      <th></th>\n",
              "      <th>Product</th>\n",
              "      <th>Age</th>\n",
              "      <th>Gender</th>\n",
              "      <th>Education</th>\n",
              "      <th>MaritalStatus</th>\n",
              "      <th>Usage</th>\n",
              "      <th>Fitness</th>\n",
              "      <th>Income</th>\n",
              "      <th>Miles</th>\n",
              "      <th>Age_bins</th>\n",
              "      <th>Income_bins</th>\n",
              "      <th>Mile_bins</th>\n",
              "    </tr>\n",
              "  </thead>\n",
              "  <tbody>\n",
              "    <tr>\n",
              "      <th>0</th>\n",
              "      <td>KP281</td>\n",
              "      <td>18</td>\n",
              "      <td>Male</td>\n",
              "      <td>14</td>\n",
              "      <td>Single</td>\n",
              "      <td>3</td>\n",
              "      <td>4</td>\n",
              "      <td>29562</td>\n",
              "      <td>112</td>\n",
              "      <td>&lt;20</td>\n",
              "      <td>&lt;35000</td>\n",
              "      <td>100-150</td>\n",
              "    </tr>\n",
              "    <tr>\n",
              "      <th>1</th>\n",
              "      <td>KP281</td>\n",
              "      <td>19</td>\n",
              "      <td>Male</td>\n",
              "      <td>15</td>\n",
              "      <td>Single</td>\n",
              "      <td>2</td>\n",
              "      <td>3</td>\n",
              "      <td>31836</td>\n",
              "      <td>75</td>\n",
              "      <td>&lt;20</td>\n",
              "      <td>&lt;35000</td>\n",
              "      <td>50-100</td>\n",
              "    </tr>\n",
              "    <tr>\n",
              "      <th>2</th>\n",
              "      <td>KP281</td>\n",
              "      <td>19</td>\n",
              "      <td>Female</td>\n",
              "      <td>14</td>\n",
              "      <td>Partnered</td>\n",
              "      <td>4</td>\n",
              "      <td>3</td>\n",
              "      <td>30699</td>\n",
              "      <td>66</td>\n",
              "      <td>&lt;20</td>\n",
              "      <td>&lt;35000</td>\n",
              "      <td>50-100</td>\n",
              "    </tr>\n",
              "    <tr>\n",
              "      <th>3</th>\n",
              "      <td>KP281</td>\n",
              "      <td>19</td>\n",
              "      <td>Male</td>\n",
              "      <td>12</td>\n",
              "      <td>Single</td>\n",
              "      <td>3</td>\n",
              "      <td>3</td>\n",
              "      <td>32973</td>\n",
              "      <td>85</td>\n",
              "      <td>&lt;20</td>\n",
              "      <td>&lt;35000</td>\n",
              "      <td>50-100</td>\n",
              "    </tr>\n",
              "    <tr>\n",
              "      <th>4</th>\n",
              "      <td>KP281</td>\n",
              "      <td>20</td>\n",
              "      <td>Male</td>\n",
              "      <td>13</td>\n",
              "      <td>Partnered</td>\n",
              "      <td>4</td>\n",
              "      <td>2</td>\n",
              "      <td>35247</td>\n",
              "      <td>47</td>\n",
              "      <td>&lt;20</td>\n",
              "      <td>35000-45000</td>\n",
              "      <td>&lt;50</td>\n",
              "    </tr>\n",
              "  </tbody>\n",
              "</table>\n",
              "</div>"
            ],
            "text/plain": [
              "  Product  Age  Gender  Education MaritalStatus  Usage  Fitness  Income  \\\n",
              "0   KP281   18    Male         14        Single      3        4   29562   \n",
              "1   KP281   19    Male         15        Single      2        3   31836   \n",
              "2   KP281   19  Female         14     Partnered      4        3   30699   \n",
              "3   KP281   19    Male         12        Single      3        3   32973   \n",
              "4   KP281   20    Male         13     Partnered      4        2   35247   \n",
              "\n",
              "   Miles Age_bins  Income_bins Mile_bins  \n",
              "0    112      <20       <35000   100-150  \n",
              "1     75      <20       <35000    50-100  \n",
              "2     66      <20       <35000    50-100  \n",
              "3     85      <20       <35000    50-100  \n",
              "4     47      <20  35000-45000       <50  "
            ]
          },
          "execution_count": 32,
          "metadata": {},
          "output_type": "execute_result"
        }
      ],
      "source": [
        "# Creating bins for miles -\n",
        "\n",
        "bins = [-1,50,100,150,400]\n",
        "labels = ['<50','50-100','100-150','150+']\n",
        "df['Mile_bins'] = pd.cut(df['Miles'], bins=bins, labels=labels)\n",
        "df.head()"
      ]
    },
    {
      "cell_type": "code",
      "execution_count": null,
      "metadata": {
        "colab": {
          "base_uri": "https://localhost:8080/",
          "height": 1000
        },
        "id": "8FFAkGv9BQms",
        "outputId": "b68821d7-0ad6-4dbb-f984-1765ccd0562c"
      },
      "outputs": [
        {
          "data": {
            "image/png": "[encoded data removed]",
            "text/plain": [
              "<Figure size 1000x400 with 1 Axes>"
            ]
          },
          "metadata": {},
          "output_type": "display_data"
        },
        {
          "data": {
            "image/png": "[encoded data removed]",
            "text/plain": [
              "<Figure size 1000x400 with 1 Axes>"
            ]
          },
          "metadata": {},
          "output_type": "display_data"
        },
        {
          "data": {
            "image/png": "[encoded data removed]",
            "text/plain": [
              "<Figure size 1000x400 with 1 Axes>"
            ]
          },
          "metadata": {},
          "output_type": "display_data"
        },
        {
          "data": {
            "image/png": "[encoded data removed]",
            "text/plain": [
              "<Figure size 1000x400 with 1 Axes>"
            ]
          },
          "metadata": {},
          "output_type": "display_data"
        },
        {
          "data": {
            "image/png": "[encoded data removed]",
            "text/plain": [
              "<Figure size 1000x400 with 1 Axes>"
            ]
          },
          "metadata": {},
          "output_type": "display_data"
        },
        {
          "data": {
            "image/png": "[encoded data removed]",
            "text/plain": [
              "<Figure size 1000x400 with 1 Axes>"
            ]
          },
          "metadata": {},
          "output_type": "display_data"
        },
        {
          "data": {
            "image/png": "[encoded data removed]",
            "text/plain": [
              "<Figure size 1000x400 with 1 Axes>"
            ]
          },
          "metadata": {},
          "output_type": "display_data"
        },
        {
          "data": {
            "image/png": "[encoded data removed]",
            "text/plain": [
              "<Figure size 1000x400 with 1 Axes>"
            ]
          },
          "metadata": {},
          "output_type": "display_data"
        }
      ],
      "source": [
        "# Crosstabs -\n",
        "\n",
        "cat_cols=['Gender','Education', 'MaritalStatus', 'Usage','Fitness','Age_bins','Income_bins','Mile_bins']\n",
        "for i in cat_cols:\n",
        "    other= round(pd.crosstab(df[df[i].notnull()][i], df['Product']).\\\n",
        "                 div(pd.crosstab(df[df[i].notnull()][i],df['Product']).apply(sum,1),0),2)\n",
        "    ax = other.plot(kind ='bar', title = i, figsize = (10,4))\n",
        "    ax.set_xlabel(i)\n",
        "    ax.set_ylabel('Proportion')\n",
        "    plt.xticks(rotation=45)\n",
        "    plt.show()"
      ]
    },
    {
      "cell_type": "markdown",
      "metadata": {
        "id": "SaOJRRDZLhJN"
      },
      "source": [
        "**Observations on the basis of above Categorical Plots**\n",
        "\n",
        "1) Around 55% of women prefer KP281 and only 10% prefer KP781. While around 35% of men prefer KP781.\n",
        "\n",
        "2) 80% in Eduation level of 18 and everyone in Education levels of 20 or 21 use KP781 while below 14 level, no one uses KP781.\n",
        "\n",
        "3) Marital Status implies no significant information on the usages of different treadmills.\n",
        "\n",
        "4) Those who workout 6 or 7 days a week use KP781 while 60% of those who workout 5 days a week use KP781.\n",
        "\n",
        "5) 95% of customers having fitness level of 5 use KP781 and none of those having fitness level below 3 use KP781.\n",
        "\n",
        "6) No one below 20 years of age use KP781.\n",
        "\n",
        "7) Above 70000 units of Income, people only use KP781 while in Incomes below 45000, no one uses KP781.\n",
        "\n",
        "8) Almost 80% of people who run over 200 miles and those who run above 150 miles use KP781 and no one who runs below 50 miles use KP781. The usage of KP281 decreases with the increase in miles while that of KP781 increases with the increase in miles."
      ]
    },
    {
      "cell_type": "markdown",
      "metadata": {
        "id": "C_FJwbAdGkIv"
      },
      "source": [
        "#### Let's deal with Probabilities -"
      ]
    },
    {
      "cell_type": "markdown",
      "metadata": {
        "id": "GNXFr_nc-VpN"
      },
      "source": [
        "**Conditional probabilities** - are the probability that an event occurs given that another event has occurred. For example, given that a customer is female, what is the probability she’ll purchase a Mac?\n",
        "\n",
        "**Marginal Probablities** - Divide the row or column total by the total sample size. Marginal probabilities are the probabilities that a single event occurs with no regard to other events in the table. These probabilities do not depend on the condition of another outcome.\n",
        "\n",
        "Probability(Mac) ; Probability(Female)"
      ]
    },
    {
      "cell_type": "markdown",
      "metadata": {
        "id": "OXX1Vn8d-eeS"
      },
      "source": [
        "**Normalize**: Default value is False Normalize by dividing all values by the sum of values:\n",
        "\n",
        "If passed ‘all’ or True, will normalize over all values.\n",
        "\n",
        "If passed ‘index’ will normalize over each row.\n",
        "\n",
        "If passed ‘columns’ will normalize over each column.\n",
        "\n",
        "If margins is True, will also normalize margin values."
      ]
    },
    {
      "cell_type": "code",
      "execution_count": null,
      "metadata": {
        "id": "mxp5ozLJ-zL-",
        "outputId": "85cecf3e-4a20-4cd7-fe6f-480245617d5b"
      },
      "outputs": [
        {
          "data": {
            "text/html": [
              "<div>\n",
              "<style scoped>\n",
              "    .dataframe tbody tr th:only-of-type {\n",
              "        vertical-align: middle;\n",
              "    }\n",
              "\n",
              "    .dataframe tbody tr th {\n",
              "        vertical-align: top;\n",
              "    }\n",
              "\n",
              "    .dataframe thead th {\n",
              "        text-align: right;\n",
              "    }\n",
              "</style>\n",
              "<table border=\"1\" class=\"dataframe\">\n",
              "  <thead>\n",
              "    <tr style=\"text-align: right;\">\n",
              "      <th>Product</th>\n",
              "      <th>KP281</th>\n",
              "      <th>KP481</th>\n",
              "      <th>KP781</th>\n",
              "    </tr>\n",
              "    <tr>\n",
              "      <th>Gender</th>\n",
              "      <th></th>\n",
              "      <th></th>\n",
              "      <th></th>\n",
              "    </tr>\n",
              "  </thead>\n",
              "  <tbody>\n",
              "    <tr>\n",
              "      <th>Female</th>\n",
              "      <td>40</td>\n",
              "      <td>29</td>\n",
              "      <td>7</td>\n",
              "    </tr>\n",
              "    <tr>\n",
              "      <th>Male</th>\n",
              "      <td>40</td>\n",
              "      <td>31</td>\n",
              "      <td>33</td>\n",
              "    </tr>\n",
              "  </tbody>\n",
              "</table>\n",
              "</div>"
            ],
            "text/plain": [
              "Product  KP281  KP481  KP781\n",
              "Gender                      \n",
              "Female      40     29      7\n",
              "Male        40     31     33"
            ]
          },
          "execution_count": 34,
          "metadata": {},
          "output_type": "execute_result"
        }
      ],
      "source": [
        "pd.crosstab(index=df['Gender'],columns=df['Product'])"
      ]
    },
    {
      "cell_type": "code",
      "execution_count": null,
      "metadata": {
        "id": "4adKeliX-0wd",
        "outputId": "1dc53de2-5e0d-4867-cb26-9ddc5778ebe4"
      },
      "outputs": [
        {
          "data": {
            "text/html": [
              "<div>\n",
              "<style scoped>\n",
              "    .dataframe tbody tr th:only-of-type {\n",
              "        vertical-align: middle;\n",
              "    }\n",
              "\n",
              "    .dataframe tbody tr th {\n",
              "        vertical-align: top;\n",
              "    }\n",
              "\n",
              "    .dataframe thead th {\n",
              "        text-align: right;\n",
              "    }\n",
              "</style>\n",
              "<table border=\"1\" class=\"dataframe\">\n",
              "  <thead>\n",
              "    <tr style=\"text-align: right;\">\n",
              "      <th>Product</th>\n",
              "      <th>KP281</th>\n",
              "      <th>KP481</th>\n",
              "      <th>KP781</th>\n",
              "      <th>All</th>\n",
              "    </tr>\n",
              "    <tr>\n",
              "      <th>Gender</th>\n",
              "      <th></th>\n",
              "      <th></th>\n",
              "      <th></th>\n",
              "      <th></th>\n",
              "    </tr>\n",
              "  </thead>\n",
              "  <tbody>\n",
              "    <tr>\n",
              "      <th>Female</th>\n",
              "      <td>40</td>\n",
              "      <td>29</td>\n",
              "      <td>7</td>\n",
              "      <td>76</td>\n",
              "    </tr>\n",
              "    <tr>\n",
              "      <th>Male</th>\n",
              "      <td>40</td>\n",
              "      <td>31</td>\n",
              "      <td>33</td>\n",
              "      <td>104</td>\n",
              "    </tr>\n",
              "    <tr>\n",
              "      <th>All</th>\n",
              "      <td>80</td>\n",
              "      <td>60</td>\n",
              "      <td>40</td>\n",
              "      <td>180</td>\n",
              "    </tr>\n",
              "  </tbody>\n",
              "</table>\n",
              "</div>"
            ],
            "text/plain": [
              "Product  KP281  KP481  KP781  All\n",
              "Gender                           \n",
              "Female      40     29      7   76\n",
              "Male        40     31     33  104\n",
              "All         80     60     40  180"
            ]
          },
          "execution_count": 35,
          "metadata": {},
          "output_type": "execute_result"
        }
      ],
      "source": [
        "pd.crosstab(index=df['Gender'],columns=df['Product'],margins=True)"
      ]
    },
    {
      "cell_type": "code",
      "execution_count": null,
      "metadata": {
        "id": "KQezi1Ds_nLW",
        "outputId": "77f40d14-2d01-4ac3-f53b-2497795d5053"
      },
      "outputs": [
        {
          "data": {
            "text/html": [
              "<div>\n",
              "<style scoped>\n",
              "    .dataframe tbody tr th:only-of-type {\n",
              "        vertical-align: middle;\n",
              "    }\n",
              "\n",
              "    .dataframe tbody tr th {\n",
              "        vertical-align: top;\n",
              "    }\n",
              "\n",
              "    .dataframe thead th {\n",
              "        text-align: right;\n",
              "    }\n",
              "</style>\n",
              "<table border=\"1\" class=\"dataframe\">\n",
              "  <thead>\n",
              "    <tr style=\"text-align: right;\">\n",
              "      <th>Product</th>\n",
              "      <th>KP281</th>\n",
              "      <th>KP481</th>\n",
              "      <th>KP781</th>\n",
              "      <th>All</th>\n",
              "    </tr>\n",
              "    <tr>\n",
              "      <th>Gender</th>\n",
              "      <th></th>\n",
              "      <th></th>\n",
              "      <th></th>\n",
              "      <th></th>\n",
              "    </tr>\n",
              "  </thead>\n",
              "  <tbody>\n",
              "    <tr>\n",
              "      <th>Female</th>\n",
              "      <td>22.222222</td>\n",
              "      <td>16.111111</td>\n",
              "      <td>3.888889</td>\n",
              "      <td>42.222222</td>\n",
              "    </tr>\n",
              "    <tr>\n",
              "      <th>Male</th>\n",
              "      <td>22.222222</td>\n",
              "      <td>17.222222</td>\n",
              "      <td>18.333333</td>\n",
              "      <td>57.777778</td>\n",
              "    </tr>\n",
              "    <tr>\n",
              "      <th>All</th>\n",
              "      <td>44.444444</td>\n",
              "      <td>33.333333</td>\n",
              "      <td>22.222222</td>\n",
              "      <td>100.000000</td>\n",
              "    </tr>\n",
              "  </tbody>\n",
              "</table>\n",
              "</div>"
            ],
            "text/plain": [
              "Product      KP281      KP481      KP781         All\n",
              "Gender                                              \n",
              "Female   22.222222  16.111111   3.888889   42.222222\n",
              "Male     22.222222  17.222222  18.333333   57.777778\n",
              "All      44.444444  33.333333  22.222222  100.000000"
            ]
          },
          "execution_count": 36,
          "metadata": {},
          "output_type": "execute_result"
        }
      ],
      "source": [
        "pd.crosstab(index=df['Gender'],columns=df['Product'],margins=True,normalize=True)*100\n",
        "#each element divided by 180"
      ]
    },
    {
      "cell_type": "code",
      "execution_count": null,
      "metadata": {
        "id": "B2iAKc6d_uHC",
        "outputId": "1249f97f-cadf-4cf8-9c7c-3235a81d2970"
      },
      "outputs": [
        {
          "data": {
            "text/html": [
              "<div>\n",
              "<style scoped>\n",
              "    .dataframe tbody tr th:only-of-type {\n",
              "        vertical-align: middle;\n",
              "    }\n",
              "\n",
              "    .dataframe tbody tr th {\n",
              "        vertical-align: top;\n",
              "    }\n",
              "\n",
              "    .dataframe thead th {\n",
              "        text-align: right;\n",
              "    }\n",
              "</style>\n",
              "<table border=\"1\" class=\"dataframe\">\n",
              "  <thead>\n",
              "    <tr style=\"text-align: right;\">\n",
              "      <th>Product</th>\n",
              "      <th>KP281</th>\n",
              "      <th>KP481</th>\n",
              "      <th>KP781</th>\n",
              "    </tr>\n",
              "    <tr>\n",
              "      <th>Gender</th>\n",
              "      <th></th>\n",
              "      <th></th>\n",
              "      <th></th>\n",
              "    </tr>\n",
              "  </thead>\n",
              "  <tbody>\n",
              "    <tr>\n",
              "      <th>Female</th>\n",
              "      <td>0.526316</td>\n",
              "      <td>0.381579</td>\n",
              "      <td>0.092105</td>\n",
              "    </tr>\n",
              "    <tr>\n",
              "      <th>Male</th>\n",
              "      <td>0.384615</td>\n",
              "      <td>0.298077</td>\n",
              "      <td>0.317308</td>\n",
              "    </tr>\n",
              "    <tr>\n",
              "      <th>All</th>\n",
              "      <td>0.444444</td>\n",
              "      <td>0.333333</td>\n",
              "      <td>0.222222</td>\n",
              "    </tr>\n",
              "  </tbody>\n",
              "</table>\n",
              "</div>"
            ],
            "text/plain": [
              "Product     KP281     KP481     KP781\n",
              "Gender                               \n",
              "Female   0.526316  0.381579  0.092105\n",
              "Male     0.384615  0.298077  0.317308\n",
              "All      0.444444  0.333333  0.222222"
            ]
          },
          "execution_count": 37,
          "metadata": {},
          "output_type": "execute_result"
        }
      ],
      "source": [
        "pd.crosstab(index=df['Gender'],columns=df['Product'],margins=True,normalize='index')\n",
        "#each element divided by summation of individual rows"
      ]
    },
    {
      "cell_type": "markdown",
      "metadata": {
        "id": "hPL2fMuI_0HV"
      },
      "source": [
        "Optimised Code"
      ]
    },
    {
      "cell_type": "code",
      "execution_count": null,
      "metadata": {
        "colab": {
          "base_uri": "https://localhost:8080/",
          "height": 1000
        },
        "id": "nwVJABCDImX1",
        "outputId": "db089c9d-ef87-4072-8b56-ed3c80ac5832"
      },
      "outputs": [
        {
          "name": "stdout",
          "output_type": "stream",
          "text": [
            "Table for Gender vs Treadmill Product\n"
          ]
        },
        {
          "data": {
            "text/html": [
              "<div>\n",
              "<style scoped>\n",
              "    .dataframe tbody tr th:only-of-type {\n",
              "        vertical-align: middle;\n",
              "    }\n",
              "\n",
              "    .dataframe tbody tr th {\n",
              "        vertical-align: top;\n",
              "    }\n",
              "\n",
              "    .dataframe thead th {\n",
              "        text-align: right;\n",
              "    }\n",
              "</style>\n",
              "<table border=\"1\" class=\"dataframe\">\n",
              "  <thead>\n",
              "    <tr style=\"text-align: right;\">\n",
              "      <th>Product</th>\n",
              "      <th>KP281</th>\n",
              "      <th>KP481</th>\n",
              "      <th>KP781</th>\n",
              "    </tr>\n",
              "    <tr>\n",
              "      <th>Gender</th>\n",
              "      <th></th>\n",
              "      <th></th>\n",
              "      <th></th>\n",
              "    </tr>\n",
              "  </thead>\n",
              "  <tbody>\n",
              "    <tr>\n",
              "      <th>Female</th>\n",
              "      <td>0.526316</td>\n",
              "      <td>0.381579</td>\n",
              "      <td>0.092105</td>\n",
              "    </tr>\n",
              "    <tr>\n",
              "      <th>Male</th>\n",
              "      <td>0.384615</td>\n",
              "      <td>0.298077</td>\n",
              "      <td>0.317308</td>\n",
              "    </tr>\n",
              "    <tr>\n",
              "      <th>All</th>\n",
              "      <td>0.444444</td>\n",
              "      <td>0.333333</td>\n",
              "      <td>0.222222</td>\n",
              "    </tr>\n",
              "  </tbody>\n",
              "</table>\n",
              "</div>"
            ],
            "text/plain": [
              "Product     KP281     KP481     KP781\n",
              "Gender                               \n",
              "Female   0.526316  0.381579  0.092105\n",
              "Male     0.384615  0.298077  0.317308\n",
              "All      0.444444  0.333333  0.222222"
            ]
          },
          "metadata": {},
          "output_type": "display_data"
        },
        {
          "name": "stdout",
          "output_type": "stream",
          "text": [
            "\n",
            "\n",
            "Table for Education vs Treadmill Product\n"
          ]
        },
        {
          "data": {
            "text/html": [
              "<div>\n",
              "<style scoped>\n",
              "    .dataframe tbody tr th:only-of-type {\n",
              "        vertical-align: middle;\n",
              "    }\n",
              "\n",
              "    .dataframe tbody tr th {\n",
              "        vertical-align: top;\n",
              "    }\n",
              "\n",
              "    .dataframe thead th {\n",
              "        text-align: right;\n",
              "    }\n",
              "</style>\n",
              "<table border=\"1\" class=\"dataframe\">\n",
              "  <thead>\n",
              "    <tr style=\"text-align: right;\">\n",
              "      <th>Product</th>\n",
              "      <th>KP281</th>\n",
              "      <th>KP481</th>\n",
              "      <th>KP781</th>\n",
              "    </tr>\n",
              "    <tr>\n",
              "      <th>Education</th>\n",
              "      <th></th>\n",
              "      <th></th>\n",
              "      <th></th>\n",
              "    </tr>\n",
              "  </thead>\n",
              "  <tbody>\n",
              "    <tr>\n",
              "      <th>12</th>\n",
              "      <td>0.666667</td>\n",
              "      <td>0.333333</td>\n",
              "      <td>0.000000</td>\n",
              "    </tr>\n",
              "    <tr>\n",
              "      <th>13</th>\n",
              "      <td>0.600000</td>\n",
              "      <td>0.400000</td>\n",
              "      <td>0.000000</td>\n",
              "    </tr>\n",
              "    <tr>\n",
              "      <th>14</th>\n",
              "      <td>0.545455</td>\n",
              "      <td>0.418182</td>\n",
              "      <td>0.036364</td>\n",
              "    </tr>\n",
              "    <tr>\n",
              "      <th>15</th>\n",
              "      <td>0.800000</td>\n",
              "      <td>0.200000</td>\n",
              "      <td>0.000000</td>\n",
              "    </tr>\n",
              "    <tr>\n",
              "      <th>16</th>\n",
              "      <td>0.458824</td>\n",
              "      <td>0.364706</td>\n",
              "      <td>0.176471</td>\n",
              "    </tr>\n",
              "    <tr>\n",
              "      <th>18</th>\n",
              "      <td>0.086957</td>\n",
              "      <td>0.086957</td>\n",
              "      <td>0.826087</td>\n",
              "    </tr>\n",
              "    <tr>\n",
              "      <th>20</th>\n",
              "      <td>0.000000</td>\n",
              "      <td>0.000000</td>\n",
              "      <td>1.000000</td>\n",
              "    </tr>\n",
              "    <tr>\n",
              "      <th>21</th>\n",
              "      <td>0.000000</td>\n",
              "      <td>0.000000</td>\n",
              "      <td>1.000000</td>\n",
              "    </tr>\n",
              "    <tr>\n",
              "      <th>All</th>\n",
              "      <td>0.444444</td>\n",
              "      <td>0.333333</td>\n",
              "      <td>0.222222</td>\n",
              "    </tr>\n",
              "  </tbody>\n",
              "</table>\n",
              "</div>"
            ],
            "text/plain": [
              "Product       KP281     KP481     KP781\n",
              "Education                              \n",
              "12         0.666667  0.333333  0.000000\n",
              "13         0.600000  0.400000  0.000000\n",
              "14         0.545455  0.418182  0.036364\n",
              "15         0.800000  0.200000  0.000000\n",
              "16         0.458824  0.364706  0.176471\n",
              "18         0.086957  0.086957  0.826087\n",
              "20         0.000000  0.000000  1.000000\n",
              "21         0.000000  0.000000  1.000000\n",
              "All        0.444444  0.333333  0.222222"
            ]
          },
          "metadata": {},
          "output_type": "display_data"
        },
        {
          "name": "stdout",
          "output_type": "stream",
          "text": [
            "\n",
            "\n",
            "Table for MaritalStatus vs Treadmill Product\n"
          ]
        },
        {
          "data": {
            "text/html": [
              "<div>\n",
              "<style scoped>\n",
              "    .dataframe tbody tr th:only-of-type {\n",
              "        vertical-align: middle;\n",
              "    }\n",
              "\n",
              "    .dataframe tbody tr th {\n",
              "        vertical-align: top;\n",
              "    }\n",
              "\n",
              "    .dataframe thead th {\n",
              "        text-align: right;\n",
              "    }\n",
              "</style>\n",
              "<table border=\"1\" class=\"dataframe\">\n",
              "  <thead>\n",
              "    <tr style=\"text-align: right;\">\n",
              "      <th>Product</th>\n",
              "      <th>KP281</th>\n",
              "      <th>KP481</th>\n",
              "      <th>KP781</th>\n",
              "    </tr>\n",
              "    <tr>\n",
              "      <th>MaritalStatus</th>\n",
              "      <th></th>\n",
              "      <th></th>\n",
              "      <th></th>\n",
              "    </tr>\n",
              "  </thead>\n",
              "  <tbody>\n",
              "    <tr>\n",
              "      <th>Partnered</th>\n",
              "      <td>0.448598</td>\n",
              "      <td>0.336449</td>\n",
              "      <td>0.214953</td>\n",
              "    </tr>\n",
              "    <tr>\n",
              "      <th>Single</th>\n",
              "      <td>0.438356</td>\n",
              "      <td>0.328767</td>\n",
              "      <td>0.232877</td>\n",
              "    </tr>\n",
              "    <tr>\n",
              "      <th>All</th>\n",
              "      <td>0.444444</td>\n",
              "      <td>0.333333</td>\n",
              "      <td>0.222222</td>\n",
              "    </tr>\n",
              "  </tbody>\n",
              "</table>\n",
              "</div>"
            ],
            "text/plain": [
              "Product           KP281     KP481     KP781\n",
              "MaritalStatus                              \n",
              "Partnered      0.448598  0.336449  0.214953\n",
              "Single         0.438356  0.328767  0.232877\n",
              "All            0.444444  0.333333  0.222222"
            ]
          },
          "metadata": {},
          "output_type": "display_data"
        },
        {
          "name": "stdout",
          "output_type": "stream",
          "text": [
            "\n",
            "\n",
            "Table for Usage vs Treadmill Product\n"
          ]
        },
        {
          "data": {
            "text/html": [
              "<div>\n",
              "<style scoped>\n",
              "    .dataframe tbody tr th:only-of-type {\n",
              "        vertical-align: middle;\n",
              "    }\n",
              "\n",
              "    .dataframe tbody tr th {\n",
              "        vertical-align: top;\n",
              "    }\n",
              "\n",
              "    .dataframe thead th {\n",
              "        text-align: right;\n",
              "    }\n",
              "</style>\n",
              "<table border=\"1\" class=\"dataframe\">\n",
              "  <thead>\n",
              "    <tr style=\"text-align: right;\">\n",
              "      <th>Product</th>\n",
              "      <th>KP281</th>\n",
              "      <th>KP481</th>\n",
              "      <th>KP781</th>\n",
              "    </tr>\n",
              "    <tr>\n",
              "      <th>Usage</th>\n",
              "      <th></th>\n",
              "      <th></th>\n",
              "      <th></th>\n",
              "    </tr>\n",
              "  </thead>\n",
              "  <tbody>\n",
              "    <tr>\n",
              "      <th>2</th>\n",
              "      <td>0.575758</td>\n",
              "      <td>0.424242</td>\n",
              "      <td>0.000000</td>\n",
              "    </tr>\n",
              "    <tr>\n",
              "      <th>3</th>\n",
              "      <td>0.536232</td>\n",
              "      <td>0.449275</td>\n",
              "      <td>0.014493</td>\n",
              "    </tr>\n",
              "    <tr>\n",
              "      <th>4</th>\n",
              "      <td>0.423077</td>\n",
              "      <td>0.230769</td>\n",
              "      <td>0.346154</td>\n",
              "    </tr>\n",
              "    <tr>\n",
              "      <th>5</th>\n",
              "      <td>0.117647</td>\n",
              "      <td>0.176471</td>\n",
              "      <td>0.705882</td>\n",
              "    </tr>\n",
              "    <tr>\n",
              "      <th>6</th>\n",
              "      <td>0.000000</td>\n",
              "      <td>0.000000</td>\n",
              "      <td>1.000000</td>\n",
              "    </tr>\n",
              "    <tr>\n",
              "      <th>7</th>\n",
              "      <td>0.000000</td>\n",
              "      <td>0.000000</td>\n",
              "      <td>1.000000</td>\n",
              "    </tr>\n",
              "    <tr>\n",
              "      <th>All</th>\n",
              "      <td>0.444444</td>\n",
              "      <td>0.333333</td>\n",
              "      <td>0.222222</td>\n",
              "    </tr>\n",
              "  </tbody>\n",
              "</table>\n",
              "</div>"
            ],
            "text/plain": [
              "Product     KP281     KP481     KP781\n",
              "Usage                                \n",
              "2        0.575758  0.424242  0.000000\n",
              "3        0.536232  0.449275  0.014493\n",
              "4        0.423077  0.230769  0.346154\n",
              "5        0.117647  0.176471  0.705882\n",
              "6        0.000000  0.000000  1.000000\n",
              "7        0.000000  0.000000  1.000000\n",
              "All      0.444444  0.333333  0.222222"
            ]
          },
          "metadata": {},
          "output_type": "display_data"
        },
        {
          "name": "stdout",
          "output_type": "stream",
          "text": [
            "\n",
            "\n",
            "Table for Fitness vs Treadmill Product\n"
          ]
        },
        {
          "data": {
            "text/html": [
              "<div>\n",
              "<style scoped>\n",
              "    .dataframe tbody tr th:only-of-type {\n",
              "        vertical-align: middle;\n",
              "    }\n",
              "\n",
              "    .dataframe tbody tr th {\n",
              "        vertical-align: top;\n",
              "    }\n",
              "\n",
              "    .dataframe thead th {\n",
              "        text-align: right;\n",
              "    }\n",
              "</style>\n",
              "<table border=\"1\" class=\"dataframe\">\n",
              "  <thead>\n",
              "    <tr style=\"text-align: right;\">\n",
              "      <th>Product</th>\n",
              "      <th>KP281</th>\n",
              "      <th>KP481</th>\n",
              "      <th>KP781</th>\n",
              "    </tr>\n",
              "    <tr>\n",
              "      <th>Fitness</th>\n",
              "      <th></th>\n",
              "      <th></th>\n",
              "      <th></th>\n",
              "    </tr>\n",
              "  </thead>\n",
              "  <tbody>\n",
              "    <tr>\n",
              "      <th>1</th>\n",
              "      <td>0.500000</td>\n",
              "      <td>0.500000</td>\n",
              "      <td>0.000000</td>\n",
              "    </tr>\n",
              "    <tr>\n",
              "      <th>2</th>\n",
              "      <td>0.538462</td>\n",
              "      <td>0.461538</td>\n",
              "      <td>0.000000</td>\n",
              "    </tr>\n",
              "    <tr>\n",
              "      <th>3</th>\n",
              "      <td>0.556701</td>\n",
              "      <td>0.402062</td>\n",
              "      <td>0.041237</td>\n",
              "    </tr>\n",
              "    <tr>\n",
              "      <th>4</th>\n",
              "      <td>0.375000</td>\n",
              "      <td>0.333333</td>\n",
              "      <td>0.291667</td>\n",
              "    </tr>\n",
              "    <tr>\n",
              "      <th>5</th>\n",
              "      <td>0.064516</td>\n",
              "      <td>0.000000</td>\n",
              "      <td>0.935484</td>\n",
              "    </tr>\n",
              "    <tr>\n",
              "      <th>All</th>\n",
              "      <td>0.444444</td>\n",
              "      <td>0.333333</td>\n",
              "      <td>0.222222</td>\n",
              "    </tr>\n",
              "  </tbody>\n",
              "</table>\n",
              "</div>"
            ],
            "text/plain": [
              "Product     KP281     KP481     KP781\n",
              "Fitness                              \n",
              "1        0.500000  0.500000  0.000000\n",
              "2        0.538462  0.461538  0.000000\n",
              "3        0.556701  0.402062  0.041237\n",
              "4        0.375000  0.333333  0.291667\n",
              "5        0.064516  0.000000  0.935484\n",
              "All      0.444444  0.333333  0.222222"
            ]
          },
          "metadata": {},
          "output_type": "display_data"
        },
        {
          "name": "stdout",
          "output_type": "stream",
          "text": [
            "\n",
            "\n",
            "Table for Age_bins vs Treadmill Product\n"
          ]
        },
        {
          "data": {
            "text/html": [
              "<div>\n",
              "<style scoped>\n",
              "    .dataframe tbody tr th:only-of-type {\n",
              "        vertical-align: middle;\n",
              "    }\n",
              "\n",
              "    .dataframe tbody tr th {\n",
              "        vertical-align: top;\n",
              "    }\n",
              "\n",
              "    .dataframe thead th {\n",
              "        text-align: right;\n",
              "    }\n",
              "</style>\n",
              "<table border=\"1\" class=\"dataframe\">\n",
              "  <thead>\n",
              "    <tr style=\"text-align: right;\">\n",
              "      <th>Product</th>\n",
              "      <th>KP281</th>\n",
              "      <th>KP481</th>\n",
              "      <th>KP781</th>\n",
              "    </tr>\n",
              "    <tr>\n",
              "      <th>Age_bins</th>\n",
              "      <th></th>\n",
              "      <th></th>\n",
              "      <th></th>\n",
              "    </tr>\n",
              "  </thead>\n",
              "  <tbody>\n",
              "    <tr>\n",
              "      <th>&lt;20</th>\n",
              "      <td>0.600000</td>\n",
              "      <td>0.400000</td>\n",
              "      <td>0.000000</td>\n",
              "    </tr>\n",
              "    <tr>\n",
              "      <th>20-25</th>\n",
              "      <td>0.405797</td>\n",
              "      <td>0.347826</td>\n",
              "      <td>0.246377</td>\n",
              "    </tr>\n",
              "    <tr>\n",
              "      <th>25-30</th>\n",
              "      <td>0.512195</td>\n",
              "      <td>0.170732</td>\n",
              "      <td>0.317073</td>\n",
              "    </tr>\n",
              "    <tr>\n",
              "      <th>30-35</th>\n",
              "      <td>0.343750</td>\n",
              "      <td>0.531250</td>\n",
              "      <td>0.125000</td>\n",
              "    </tr>\n",
              "    <tr>\n",
              "      <th>35-40</th>\n",
              "      <td>0.500000</td>\n",
              "      <td>0.375000</td>\n",
              "      <td>0.125000</td>\n",
              "    </tr>\n",
              "    <tr>\n",
              "      <th>40+</th>\n",
              "      <td>0.500000</td>\n",
              "      <td>0.166667</td>\n",
              "      <td>0.333333</td>\n",
              "    </tr>\n",
              "    <tr>\n",
              "      <th>All</th>\n",
              "      <td>0.444444</td>\n",
              "      <td>0.333333</td>\n",
              "      <td>0.222222</td>\n",
              "    </tr>\n",
              "  </tbody>\n",
              "</table>\n",
              "</div>"
            ],
            "text/plain": [
              "Product      KP281     KP481     KP781\n",
              "Age_bins                              \n",
              "<20       0.600000  0.400000  0.000000\n",
              "20-25     0.405797  0.347826  0.246377\n",
              "25-30     0.512195  0.170732  0.317073\n",
              "30-35     0.343750  0.531250  0.125000\n",
              "35-40     0.500000  0.375000  0.125000\n",
              "40+       0.500000  0.166667  0.333333\n",
              "All       0.444444  0.333333  0.222222"
            ]
          },
          "metadata": {},
          "output_type": "display_data"
        },
        {
          "name": "stdout",
          "output_type": "stream",
          "text": [
            "\n",
            "\n",
            "Table for Income_bins vs Treadmill Product\n"
          ]
        },
        {
          "data": {
            "text/html": [
              "<div>\n",
              "<style scoped>\n",
              "    .dataframe tbody tr th:only-of-type {\n",
              "        vertical-align: middle;\n",
              "    }\n",
              "\n",
              "    .dataframe tbody tr th {\n",
              "        vertical-align: top;\n",
              "    }\n",
              "\n",
              "    .dataframe thead th {\n",
              "        text-align: right;\n",
              "    }\n",
              "</style>\n",
              "<table border=\"1\" class=\"dataframe\">\n",
              "  <thead>\n",
              "    <tr style=\"text-align: right;\">\n",
              "      <th>Product</th>\n",
              "      <th>KP281</th>\n",
              "      <th>KP481</th>\n",
              "      <th>KP781</th>\n",
              "    </tr>\n",
              "    <tr>\n",
              "      <th>Income_bins</th>\n",
              "      <th></th>\n",
              "      <th></th>\n",
              "      <th></th>\n",
              "    </tr>\n",
              "  </thead>\n",
              "  <tbody>\n",
              "    <tr>\n",
              "      <th>&lt;35000</th>\n",
              "      <td>0.571429</td>\n",
              "      <td>0.428571</td>\n",
              "      <td>0.000000</td>\n",
              "    </tr>\n",
              "    <tr>\n",
              "      <th>35000-45000</th>\n",
              "      <td>0.742857</td>\n",
              "      <td>0.257143</td>\n",
              "      <td>0.000000</td>\n",
              "    </tr>\n",
              "    <tr>\n",
              "      <th>45000-50000</th>\n",
              "      <td>0.411765</td>\n",
              "      <td>0.441176</td>\n",
              "      <td>0.147059</td>\n",
              "    </tr>\n",
              "    <tr>\n",
              "      <th>50000-60000</th>\n",
              "      <td>0.472727</td>\n",
              "      <td>0.418182</td>\n",
              "      <td>0.109091</td>\n",
              "    </tr>\n",
              "    <tr>\n",
              "      <th>60000-70000</th>\n",
              "      <td>0.315789</td>\n",
              "      <td>0.368421</td>\n",
              "      <td>0.315789</td>\n",
              "    </tr>\n",
              "    <tr>\n",
              "      <th>70000-90000</th>\n",
              "      <td>0.000000</td>\n",
              "      <td>0.000000</td>\n",
              "      <td>1.000000</td>\n",
              "    </tr>\n",
              "    <tr>\n",
              "      <th>90000+</th>\n",
              "      <td>0.000000</td>\n",
              "      <td>0.000000</td>\n",
              "      <td>1.000000</td>\n",
              "    </tr>\n",
              "    <tr>\n",
              "      <th>All</th>\n",
              "      <td>0.444444</td>\n",
              "      <td>0.333333</td>\n",
              "      <td>0.222222</td>\n",
              "    </tr>\n",
              "  </tbody>\n",
              "</table>\n",
              "</div>"
            ],
            "text/plain": [
              "Product         KP281     KP481     KP781\n",
              "Income_bins                              \n",
              "<35000       0.571429  0.428571  0.000000\n",
              "35000-45000  0.742857  0.257143  0.000000\n",
              "45000-50000  0.411765  0.441176  0.147059\n",
              "50000-60000  0.472727  0.418182  0.109091\n",
              "60000-70000  0.315789  0.368421  0.315789\n",
              "70000-90000  0.000000  0.000000  1.000000\n",
              "90000+       0.000000  0.000000  1.000000\n",
              "All          0.444444  0.333333  0.222222"
            ]
          },
          "metadata": {},
          "output_type": "display_data"
        },
        {
          "name": "stdout",
          "output_type": "stream",
          "text": [
            "\n",
            "\n",
            "Table for Mile_bins vs Treadmill Product\n"
          ]
        },
        {
          "data": {
            "text/html": [
              "<div>\n",
              "<style scoped>\n",
              "    .dataframe tbody tr th:only-of-type {\n",
              "        vertical-align: middle;\n",
              "    }\n",
              "\n",
              "    .dataframe tbody tr th {\n",
              "        vertical-align: top;\n",
              "    }\n",
              "\n",
              "    .dataframe thead th {\n",
              "        text-align: right;\n",
              "    }\n",
              "</style>\n",
              "<table border=\"1\" class=\"dataframe\">\n",
              "  <thead>\n",
              "    <tr style=\"text-align: right;\">\n",
              "      <th>Product</th>\n",
              "      <th>KP281</th>\n",
              "      <th>KP481</th>\n",
              "      <th>KP781</th>\n",
              "    </tr>\n",
              "    <tr>\n",
              "      <th>Mile_bins</th>\n",
              "      <th></th>\n",
              "      <th></th>\n",
              "      <th></th>\n",
              "    </tr>\n",
              "  </thead>\n",
              "  <tbody>\n",
              "    <tr>\n",
              "      <th>&lt;50</th>\n",
              "      <td>0.705882</td>\n",
              "      <td>0.294118</td>\n",
              "      <td>0.000000</td>\n",
              "    </tr>\n",
              "    <tr>\n",
              "      <th>50-100</th>\n",
              "      <td>0.515464</td>\n",
              "      <td>0.402062</td>\n",
              "      <td>0.082474</td>\n",
              "    </tr>\n",
              "    <tr>\n",
              "      <th>100-150</th>\n",
              "      <td>0.421053</td>\n",
              "      <td>0.342105</td>\n",
              "      <td>0.236842</td>\n",
              "    </tr>\n",
              "    <tr>\n",
              "      <th>150+</th>\n",
              "      <td>0.071429</td>\n",
              "      <td>0.107143</td>\n",
              "      <td>0.821429</td>\n",
              "    </tr>\n",
              "    <tr>\n",
              "      <th>All</th>\n",
              "      <td>0.444444</td>\n",
              "      <td>0.333333</td>\n",
              "      <td>0.222222</td>\n",
              "    </tr>\n",
              "  </tbody>\n",
              "</table>\n",
              "</div>"
            ],
            "text/plain": [
              "Product       KP281     KP481     KP781\n",
              "Mile_bins                              \n",
              "<50        0.705882  0.294118  0.000000\n",
              "50-100     0.515464  0.402062  0.082474\n",
              "100-150    0.421053  0.342105  0.236842\n",
              "150+       0.071429  0.107143  0.821429\n",
              "All        0.444444  0.333333  0.222222"
            ]
          },
          "metadata": {},
          "output_type": "display_data"
        },
        {
          "name": "stdout",
          "output_type": "stream",
          "text": [
            "\n",
            "\n"
          ]
        }
      ],
      "source": [
        "from IPython.display import display\n",
        "for i in cat_cols:\n",
        "  print('Table for',str(i),'vs Treadmill Product')\n",
        "  display(pd.crosstab(df[i], df['Product'], margins=True, normalize='index'))\n",
        "  print(\"\\n\")"
      ]
    },
    {
      "cell_type": "markdown",
      "metadata": {
        "id": "3iU2PKVmla1M"
      },
      "source": [
        "Normalize parameter accept boolean values. It depicts the percentage of time each combination occurs (i.e. the marginal probability).\n",
        "\n",
        "They normalize by dividing all values by the sum of values.\n",
        "\n",
        "* If passed ‘all’ or True, will normalize over all values.\n",
        "\n",
        "* If passed ‘index’ will normalize over each row.\n",
        "\n",
        "* If passed ‘columns’ will normalize over each column.\n",
        "\n",
        "* In case if margins is True, will also normalize margin values."
      ]
    },
    {
      "cell_type": "markdown",
      "metadata": {
        "id": "lonClYj_K0bz"
      },
      "source": [
        "**Brief depiction of Probabilities Inferred from the above tables**\n",
        "\n",
        "1) In all the tables, one can see the last row named All, it consists of the overall probabilities of purchases of those 3 treadmills, i.e. - Probability of purchase of KP281= 44.44%, KP481= 33.33% and KP781=22.22%\n",
        "\n",
        "2) P(KP281|Education=12) = 66.66% and P(KP781|Education=18) = 82.6%\n",
        "   P(KP781|Education=20) = P(KP781|Education=21) = 100%\n",
        "\n",
        "3) P(KP281|Usage=2) = 57.57%, P(KP781|Usage=6)=P(KP781|Usage=7) = 100%\n",
        "\n",
        "4) P(KP481|Fitness=2) = 46.15%\n",
        "\n",
        "5) P(KP481|Age_bins=30-35) = 53.12%\n",
        "\n",
        "6) P(KP781|Income>70000) = 100% and P(KP481|Income_bins=45000-50000) = 44.11%\n",
        "\n",
        "7) P(KP281|Mile_bins<50) = 70.5% and  P(KP781|Mile_bins>150)=82.1%"
      ]
    },
    {
      "cell_type": "markdown",
      "metadata": {
        "id": "hFhA-lFFoz1c"
      },
      "source": [
        "**Till now we've got great insights for the customers peratining to KP781 while clarity regarding KP281 and KP481 seems to be missing**"
      ]
    },
    {
      "cell_type": "code",
      "execution_count": null,
      "metadata": {
        "colab": {
          "base_uri": "https://localhost:8080/",
          "height": 206
        },
        "id": "5MPajZ6sLkgE",
        "outputId": "81eb4436-46f6-4d26-e525-870949987302"
      },
      "outputs": [
        {
          "data": {
            "text/html": [
              "<div>\n",
              "<style scoped>\n",
              "    .dataframe tbody tr th:only-of-type {\n",
              "        vertical-align: middle;\n",
              "    }\n",
              "\n",
              "    .dataframe tbody tr th {\n",
              "        vertical-align: top;\n",
              "    }\n",
              "\n",
              "    .dataframe thead th {\n",
              "        text-align: right;\n",
              "    }\n",
              "</style>\n",
              "<table border=\"1\" class=\"dataframe\">\n",
              "  <thead>\n",
              "    <tr style=\"text-align: right;\">\n",
              "      <th></th>\n",
              "      <th>Product</th>\n",
              "      <th>Age</th>\n",
              "      <th>Gender</th>\n",
              "      <th>Education</th>\n",
              "      <th>MaritalStatus</th>\n",
              "      <th>Usage</th>\n",
              "      <th>Fitness</th>\n",
              "      <th>Income</th>\n",
              "      <th>Miles</th>\n",
              "      <th>Age_bins</th>\n",
              "      <th>Income_bins</th>\n",
              "      <th>Mile_bins</th>\n",
              "    </tr>\n",
              "  </thead>\n",
              "  <tbody>\n",
              "    <tr>\n",
              "      <th>0</th>\n",
              "      <td>KP281</td>\n",
              "      <td>18</td>\n",
              "      <td>Male</td>\n",
              "      <td>14</td>\n",
              "      <td>Single</td>\n",
              "      <td>3</td>\n",
              "      <td>4</td>\n",
              "      <td>29562</td>\n",
              "      <td>112</td>\n",
              "      <td>&lt;20</td>\n",
              "      <td>&lt;35000</td>\n",
              "      <td>100-150</td>\n",
              "    </tr>\n",
              "    <tr>\n",
              "      <th>1</th>\n",
              "      <td>KP281</td>\n",
              "      <td>19</td>\n",
              "      <td>Male</td>\n",
              "      <td>15</td>\n",
              "      <td>Single</td>\n",
              "      <td>2</td>\n",
              "      <td>3</td>\n",
              "      <td>31836</td>\n",
              "      <td>75</td>\n",
              "      <td>&lt;20</td>\n",
              "      <td>&lt;35000</td>\n",
              "      <td>50-100</td>\n",
              "    </tr>\n",
              "    <tr>\n",
              "      <th>2</th>\n",
              "      <td>KP281</td>\n",
              "      <td>19</td>\n",
              "      <td>Female</td>\n",
              "      <td>14</td>\n",
              "      <td>Partnered</td>\n",
              "      <td>4</td>\n",
              "      <td>3</td>\n",
              "      <td>30699</td>\n",
              "      <td>66</td>\n",
              "      <td>&lt;20</td>\n",
              "      <td>&lt;35000</td>\n",
              "      <td>50-100</td>\n",
              "    </tr>\n",
              "    <tr>\n",
              "      <th>3</th>\n",
              "      <td>KP281</td>\n",
              "      <td>19</td>\n",
              "      <td>Male</td>\n",
              "      <td>12</td>\n",
              "      <td>Single</td>\n",
              "      <td>3</td>\n",
              "      <td>3</td>\n",
              "      <td>32973</td>\n",
              "      <td>85</td>\n",
              "      <td>&lt;20</td>\n",
              "      <td>&lt;35000</td>\n",
              "      <td>50-100</td>\n",
              "    </tr>\n",
              "    <tr>\n",
              "      <th>4</th>\n",
              "      <td>KP281</td>\n",
              "      <td>20</td>\n",
              "      <td>Male</td>\n",
              "      <td>13</td>\n",
              "      <td>Partnered</td>\n",
              "      <td>4</td>\n",
              "      <td>2</td>\n",
              "      <td>35247</td>\n",
              "      <td>47</td>\n",
              "      <td>&lt;20</td>\n",
              "      <td>35000-45000</td>\n",
              "      <td>&lt;50</td>\n",
              "    </tr>\n",
              "  </tbody>\n",
              "</table>\n",
              "</div>"
            ],
            "text/plain": [
              "  Product  Age  Gender  Education MaritalStatus  Usage  Fitness  Income  \\\n",
              "0   KP281   18    Male         14        Single      3        4   29562   \n",
              "1   KP281   19    Male         15        Single      2        3   31836   \n",
              "2   KP281   19  Female         14     Partnered      4        3   30699   \n",
              "3   KP281   19    Male         12        Single      3        3   32973   \n",
              "4   KP281   20    Male         13     Partnered      4        2   35247   \n",
              "\n",
              "   Miles Age_bins  Income_bins Mile_bins  \n",
              "0    112      <20       <35000   100-150  \n",
              "1     75      <20       <35000    50-100  \n",
              "2     66      <20       <35000    50-100  \n",
              "3     85      <20       <35000    50-100  \n",
              "4     47      <20  35000-45000       <50  "
            ]
          },
          "execution_count": 40,
          "metadata": {},
          "output_type": "execute_result"
        }
      ],
      "source": [
        "df.head()"
      ]
    },
    {
      "cell_type": "code",
      "execution_count": null,
      "metadata": {
        "id": "M5zP5g6wFf_0"
      },
      "outputs": [],
      "source": []
    },
    {
      "cell_type": "code",
      "execution_count": null,
      "metadata": {
        "id": "rkIFiGLsFf_0"
      },
      "outputs": [],
      "source": [
        "#Multivariate Analysis --> lets see how you do it."
      ]
    },
    {
      "cell_type": "code",
      "execution_count": null,
      "metadata": {
        "id": "W5V9tmMcFf_0"
      },
      "outputs": [],
      "source": []
    },
    {
      "cell_type": "markdown",
      "metadata": {
        "id": "vg5cYWhM_X1S"
      },
      "source": [
        "### Recommendations and Customer Profiling -"
      ]
    },
    {
      "cell_type": "markdown",
      "metadata": {
        "id": "zm1mQ0oN_bLc"
      },
      "source": [
        "**Customer Profiles for KP781**\n",
        "<br>\n",
        "\n",
        "1) Only people having incomes greater than 70k have run over 220 miles and all of then use KP781.\n",
        "\n",
        "2) Recommend KP781 if one or more conditions are satisfied along with a necessary condition of Income > 70000:-\n",
        "<br>\n",
        "    a) Education Level >= 18\n",
        "    b) Usage days > = 5\n",
        "    c) Fitness Levels = 5\n",
        "    d) The person runs more than 150 miles(80% of them use KP781)\n",
        "\n",
        "3) Never Recommend KP781 if one or more of these conditions are satisfied:-\n",
        "<br>\n",
        "    a) Education Levels < 14\n",
        "    b) Fitness < 3\n",
        "    c) Age < 20\n",
        "    d)Income < 45000\n",
        "    e) Miles run < 50\n",
        "\n",
        "**Why very few women have bought the luxurious KP781 treadmill?**\n",
        "<br>\n",
        "Only 2 women have incomes over 70k which is certainly the reason for a large proportion of them not buying KP781(affordability).\n",
        "\n",
        "\n",
        "**Note for below mentioned points**\n",
        "KP281 and KP481 don't have much differences in their costs and the characteristics of customers who use them . Still a few of them have been identified but they need to be validated with an incremental data.\n",
        "\n",
        "**Customer Profiles for KP281:**\n",
        "\n",
        "1) Women having incomes below 70k and age > 40\n",
        "<br>\n",
        "2) Customers having income in range 60k-70k and usage days=3\n",
        "<br>\n",
        "3) Customers having income in range 45k-50k and usage days=2\n",
        "<br>\n",
        "4) Customers having income in range 35k-45k and usage days=4\n",
        "<br>\n",
        "5) Customers having income in range 50k-60k and usage days=4\n",
        "<br>\n",
        "6) Customers with Fitness=4, age closer to 40 and income 50k-60k\n",
        "<br>\n",
        "7) Customers with Education Level=16, Age>32 and income 45k-50k\n",
        "<br>\n",
        "8) Customers with Education Level=16, Age>45 and income 60k-70k\n",
        "<br>\n",
        "9) Customers with Age in 25-30 and 35-40 having incomes in range 35k-45k\n",
        "<br>\n",
        "10) Customers with 40+ Age and 60k-70k income\n",
        "<br>\n",
        "11) Women with incomes < 35k and whose miles run < 105\n",
        "<br>\n",
        "12) Customers with usages=5, incomes in range 35k-45k and who run more than 140 miles\n",
        "<br>\n",
        "13) Customers with Fitness=5, incomes < 70k and Incomes in 45k-50k\n",
        "<br>\n",
        "14) Customers with Education level=15 having incomes less than 35k\n",
        "<br>\n",
        "15) Customers with Usages=3, miles run < 70 and Age>40\n",
        "<br>\n",
        "16) Customers with Usages=2 and Age between 25-30\n",
        "\n",
        "\n",
        "**Customer Profiles for KP481:**\n",
        "\n",
        "1) Women having incomes below 70k and age between 32-37\n",
        "<br>\n",
        "2) Customers with age < 25, incomes in range 50-60k and the miles run is in the range 100-150\n",
        "<br>\n",
        "3) Customers with Fitness=4, age in range 25-32 and income 50k-60k\n",
        "<br>\n",
        "4) Customers with Education Level=16, Age< 22 and income 45k-50k\n",
        "<br>\n",
        "5) Customers with Education Level=16, Age< 35 and income 60k-70k\n",
        "<br>\n",
        "6) Customers with 35-40 Age and 60k-70k income\n",
        "<br>\n",
        "7) Women with incomes < 35k and whose miles run >105\n",
        "<br>\n",
        "8) Men with incomes 60k-70k and who tread in range 100-150 miles\n",
        "<br>\n",
        "9) Customers with Fitness=4, incomes < 45k-50k and who run more than 100 miles\n",
        "<br>\n",
        "10) Customers with Education level=13 having incomes in ranges 45-60k\n",
        "<br>\n",
        "11) Customers with Usages=2 and Age>40"
      ]
    }
  ],
  "metadata": {
    "colab": {
      "collapsed_sections": [
        "3nmvi3Gfke-r",
        "uWkMfYuc849t",
        "lLn_jA0WCnjZ",
        "C_FJwbAdGkIv",
        "_PEmUlvj81pn"
      ],
      "provenance": []
    },
    "kernelspec": {
      "display_name": "mlops",
      "language": "python",
      "name": "python3"
    },
    "language_info": {
      "codemirror_mode": {
        "name": "ipython",
        "version": 3
      },
      "file_extension": ".py",
      "mimetype": "text/x-python",
      "name": "python",
      "nbconvert_exporter": "python",
      "pygments_lexer": "ipython3",
      "version": "3.9.18 (main, Sep 11 2023, 14:09:26) [MSC v.1916 64 bit (AMD64)]"
    },
    "varInspector": {
      "cols": {
        "lenName": 16,
        "lenType": 16,
        "lenVar": 40
      },
      "kernels_config": {
        "python": {
          "delete_cmd_postfix": "",
          "delete_cmd_prefix": "del ",
          "library": "var_list.py",
          "varRefreshCmd": "print(var_dic_list())"
        },
        "r": {
          "delete_cmd_postfix": ") ",
          "delete_cmd_prefix": "rm(",
          "library": "var_list.r",
          "varRefreshCmd": "cat(var_dic_list()) "
        }
      },
      "types_to_exclude": [
        "module",
        "function",
        "builtin_function_or_method",
        "instance",
        "_Feature"
      ],
      "window_display": false
    },
    "vscode": {
      "interpreter": {
        "hash": "1b8cc2443dac255f5863d925b738cfe3a24d8333c04bb14f72dfd9c643c8ae38"
      }
    }
  },
  "nbformat": 4,
  "nbformat_minor": 0
}